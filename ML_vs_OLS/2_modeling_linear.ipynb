{
 "cells": [
  {
   "cell_type": "markdown",
   "metadata": {
    "toc": true
   },
   "source": [
    "<h1>Table of Contents<span class=\"tocSkip\"></span></h1>\n",
    "<div class=\"toc\"><ul class=\"toc-item\"><li><span><a href=\"#OLS\" data-toc-modified-id=\"OLS-1\"><span class=\"toc-item-num\">1&nbsp;&nbsp;</span>OLS</a></span><ul class=\"toc-item\"><li><span><a href=\"#Unpooled\" data-toc-modified-id=\"Unpooled-1.1\"><span class=\"toc-item-num\">1.1&nbsp;&nbsp;</span>Unpooled</a></span><ul class=\"toc-item\"><li><span><a href=\"#All-logs\" data-toc-modified-id=\"All-logs-1.1.1\"><span class=\"toc-item-num\">1.1.1&nbsp;&nbsp;</span>All logs</a></span></li><li><span><a href=\"#Logs-or-squares\" data-toc-modified-id=\"Logs-or-squares-1.1.2\"><span class=\"toc-item-num\">1.1.2&nbsp;&nbsp;</span>Logs or squares</a></span></li></ul></li><li><span><a href=\"#Pooled\" data-toc-modified-id=\"Pooled-1.2\"><span class=\"toc-item-num\">1.2&nbsp;&nbsp;</span>Pooled</a></span></li></ul></li><li><span><a href=\"#Linear-model-with-elastic-net-regularization\" data-toc-modified-id=\"Linear-model-with-elastic-net-regularization-2\"><span class=\"toc-item-num\">2&nbsp;&nbsp;</span>Linear model with elastic net regularization</a></span><ul class=\"toc-item\"><li><span><a href=\"#Unpooled\" data-toc-modified-id=\"Unpooled-2.1\"><span class=\"toc-item-num\">2.1&nbsp;&nbsp;</span>Unpooled</a></span></li><li><span><a href=\"#Pooled\" data-toc-modified-id=\"Pooled-2.2\"><span class=\"toc-item-num\">2.2&nbsp;&nbsp;</span>Pooled</a></span></li></ul></li><li><span><a href=\"#Save-performance\" data-toc-modified-id=\"Save-performance-3\"><span class=\"toc-item-num\">3&nbsp;&nbsp;</span>Save performance</a></span></li></ul></div>"
   ]
  },
  {
   "cell_type": "code",
   "execution_count": 2,
   "metadata": {},
   "outputs": [],
   "source": [
    "# Importing libraries\n",
    "import pdb \n",
    "import glob\n",
    "import copy\n",
    "import math\n",
    "# import pickle\n",
    "import csv\n",
    "\n",
    "import numpy as np\n",
    "import pandas as pd\n",
    "import scipy as sp\n",
    "\n",
    "import matplotlib as mpl\n",
    "import matplotlib.pyplot as plt\n",
    "import matplotlib.cm as cm\n",
    "import seaborn as sns\n",
    " \n",
    "# from sklearn.compose import ColumnTransformer\n",
    "# from sklearn.pipeline import Pipeline\n",
    "# from sklearn.impute import SimpleImputer\n",
    "from sklearn.preprocessing import OneHotEncoder\n",
    "from sklearn.metrics import mean_squared_error, r2_score\n",
    "from sklearn.model_selection import train_test_split, \\\n",
    "    StratifiedShuffleSplit, cross_val_score, KFold\n",
    "#     GridSearchCV, RandomizedSearchCV\n",
    "\n",
    "# from sklearn.decomposition import PCA\n",
    "from sklearn.linear_model import LinearRegression, \\\n",
    "    ElasticNet\n",
    "#     LogisticRegressionCV, SGDClassifier\n",
    "# from sklearn.svm import SVC, LinearSVC\n",
    "# from sklearn.ensemble import RandomForestClassifier, \\\n",
    "#     ExtraTreesClassifier\n",
    "\n",
    "from sklearn.externals import joblib\n",
    "from sklearn.utils import resample\n",
    "# from sklearn.utils.fixes import signature\n",
    "\n",
    "from hyperopt import fmin, tpe, hp, STATUS_OK, Trials, space_eval, pyll\n",
    "# import xgboost as xgb\n",
    "# from xgboost.sklearn import XGBRegressor\n",
    "\n",
    "# Set up pandas table display\n",
    "pd.set_option('display.width', 120)\n",
    "pd.set_option('display.max_columns', 100)\n",
    "pd.set_option('display.notebook_repr_html', True)\n",
    "\n",
    "# Set plotting options\n",
    "sns.set() # Use seaborn defaults for plotting\n",
    "%matplotlib inline \n",
    "\n",
    "# # Load line profiler\n",
    "# %load_ext line_profiler\n",
    "\n",
    "# Adjust number of CPU cores to use\n",
    "N_JOBS=3"
   ]
  },
  {
   "cell_type": "markdown",
   "metadata": {},
   "source": [
    "In the previous notebook, we trained a gradient boosting model, in order to have the flexibility to model non-linear relationships and interactions between the predictors. Gradient boosting, and in particular the version I used, XGBoost, is known to deliver some of the most accurate predictions.  In fact, on anything short of huge data sets with at least millions of observations, where deep learning is likely to perform best, it is probably the most accurate individual model. \n",
    "\n",
    "However, in practice linear regression is often the method of choice, because of its simplicity as well as its better interpretability. Thus, let’s see for comparison what accuracy we achieve using OLS. After that, I will add regularization to these models to avoid overfitting the model to the particular data we have at hand.  This will show that, if we want to include many parameters in the model (e.g., to take into account the effect of variables like the different metropolitan areas), regularization is important in order to get good performance on new data.\n",
    "By the same token, this also shows that we need to rethink how we evaluate the performance of a model: If we want to use the explained variance, it is not enough to simply use the adjusted R_2, since this adjustment is not done in any principled way.  Rather, we need to withhold data when training the model, and then evaluate the performance of the model (e.g., by calculating the R_2) on these withheld data."
   ]
  },
  {
   "cell_type": "markdown",
   "metadata": {},
   "source": [
    "Let's load the data from the previous note book and perform the specific preprocessing steps necessary for linear models."
   ]
  },
  {
   "cell_type": "code",
   "execution_count": null,
   "metadata": {},
   "outputs": [],
   "source": [
    "data_train = joblib.load('../data/data_train_lin')\n",
    "data_test = joblib.load('../data/data_test_lin')"
   ]
  },
  {
   "cell_type": "markdown",
   "metadata": {},
   "source": [
    "Since we will encode year using one-hot encoding (i.e., using dummy variables), we need to deal with the fact that the test set has years not found in the training set. The best solution seems to be to set the new years to the last year for which we have data.  Our training set goes to mid-2016, gives and a test set goes from mid-2016 to 2017.Therefore, we simply said all years in the test set to 2016, which should give us the best possible results."
   ]
  },
  {
   "cell_type": "code",
   "execution_count": 133,
   "metadata": {},
   "outputs": [],
   "source": [
    "# Set year for test set to the most recent year\n",
    "data_test.year = 2016"
   ]
  },
  {
   "cell_type": "markdown",
   "metadata": {},
   "source": [
    "## OLS "
   ]
  },
  {
   "cell_type": "markdown",
   "metadata": {},
   "source": [
    "### Unpooled\n",
    "#### All logs "
   ]
  },
  {
   "cell_type": "markdown",
   "metadata": {},
   "source": [
    "First, we will perform one-hot encoding for categorical variables. By contrast to the previous notebook, we will also treat the ordinal variable, hotel category, as categorical. This is necessary because linear models would otherwise wrongly treat the variable as measured on an interval-scale, which is unlikely to be appropriate (this would assume that the difference between each succeeding pair of categories is identical in size).\n",
    "\n",
    "For the models without regularization, we need to drop the first category of each categorical variable in order to avoid collinearity. This is not so easy to achieve with the python data science stack, because we normally would not want to estimate a model without regularization. Pandas.get_dummies() does offer this possibility, but it then does not give us the option to transform the training data using the same encoding. Thus, the best option is to use scikit-learn's one-hot encoder on each categorical column individually. I will store these in a list, and then drop the first column before concatenating these new data frames. "
   ]
  },
  {
   "cell_type": "code",
   "execution_count": 206,
   "metadata": {},
   "outputs": [],
   "source": [
    "# Categorical variables\n",
    "cats = ['msa', 'tract', 'location', 'category',\n",
    "        'saleaffiliation', 'operation', 'year', 'quarter']\n",
    "# Instantiate one-hot encoder\n",
    "ohe = OneHotEncoder(handle_unknown='ignore',\n",
    "                    sparse=False)\n",
    "# Create lists to store encodings for each variable\n",
    "X_train_cats = []\n",
    "X_test_cats = []\n",
    "feature_names_cats = []\n",
    "# Iterate through categorical variables\n",
    "for cat in cats:\n",
    "    # Encode variable i for TEST data\n",
    "    ohe_train_i = ohe.fit_transform(\n",
    "                data_train.loc[:, [cat]])\n",
    "    # Encode variable i for TRAIN data\n",
    "    ohe_test_i = ohe.transform(\n",
    "                data_test.loc[:, [cat]])\n",
    "    \n",
    "    # Discard first column and save\n",
    "    X_train_cats.append(ohe_train_i[:,1:])\n",
    "    X_test_cats.append(ohe_test_i[:,1:])\n",
    "    \n",
    "    # Save feature names (w/o first column)\n",
    "    feature_names_cats.extend(\n",
    "        ohe.get_feature_names()[1:])"
   ]
  },
  {
   "cell_type": "code",
   "execution_count": 207,
   "metadata": {},
   "outputs": [
    {
     "name": "stdout",
     "output_type": "stream",
     "text": [
      "Variables excluded:  ['year_2', 'year_3', 'age_2', 'age_3', 'floors_2', 'landsf', 'age', 'largestmeetingspace', 'sizesf', 'rooms', 'floors', 'saleprice', 'log_saleprice', 'id', 'new']\n"
     ]
    }
   ],
   "source": [
    "# List of variables to exclude from X\n",
    "v2exclude= list(\n",
    "    data_train.columns[\n",
    "        data_train.columns.str.contains(r'_[23]')]) # Polynomials\n",
    "v2exclude.extend(\n",
    "    ['landsf', 'age', 'largestmeetingspace', 'sizesf', # Levels\n",
    "     'rooms','floors'])\n",
    "v2exclude.extend(\n",
    "    ['saleprice', 'log_saleprice', 'id', 'new'])\n",
    "# Print to make sure no variables are accidentally excluded\n",
    "print('Variables excluded: ', v2exclude)"
   ]
  },
  {
   "cell_type": "code",
   "execution_count": 208,
   "metadata": {},
   "outputs": [],
   "source": [
    "# Non-categorical columns for X\n",
    "X_train_rest= data_train.drop(cats + v2exclude,\n",
    "                               axis=1)\n",
    "X_test_rest= data_test.drop(cats + v2exclude,\n",
    "                             axis=1)\n",
    "# Merge categorical and non-categorical variables\n",
    "X_train= np.concatenate([X_train_rest] + X_train_cats, \n",
    "                         axis=1)\n",
    "X_test= np.concatenate([X_test_rest] + X_test_cats, \n",
    "                         axis=1)\n",
    "\n",
    "# Get feature names\n",
    "feature_names= list(X_train_rest.columns) \\\n",
    "    + feature_names_cats\n",
    "# Create target variables\n",
    "y_train = data_train.loc[:, 'log_saleprice']\n",
    "y_test = data_test.loc[:, 'log_saleprice']"
   ]
  },
  {
   "cell_type": "markdown",
   "metadata": {},
   "source": [
    "Let's go ahead and train the model.  Even though I removed the first category of each categorical variable for which I used one-hot-encoding, I also had to remove the intercept in order to get a reasonable prediction on the test set. (With the intercept, I got a negative R^2.)  Even though statisticians have developed tools to dig deeper into collinearity to find out which variables are causing the problem, I don't waste any time on this. As explained above, there is no reason to estimate a model without regularization anyway, except for demonstration purposes."
   ]
  },
  {
   "cell_type": "code",
   "execution_count": 209,
   "metadata": {},
   "outputs": [],
   "source": [
    "from sklearn.linear_model import LinearRegression\n",
    "lr= LinearRegression(fit_intercept=False)\n",
    "lr.fit(X_train, y_train)\n",
    "# Get sorted coefficients with feature names\n",
    "coef= pd.Series(\n",
    "    lr.coef_,\n",
    "    index=feature_names) \\\n",
    "    .sort_values(ascending=False)"
   ]
  },
  {
   "cell_type": "code",
   "execution_count": 210,
   "metadata": {},
   "outputs": [
    {
     "data": {
      "text/html": [
       "<style  type=\"text/css\" >\n",
       "</style>  \n",
       "<table id=\"T_f932a84a_3dfb_11e9_8472_28d24441a969\" > \n",
       "<thead>    <tr> \n",
       "        <th class=\"blank level0\" ></th> \n",
       "        <th class=\"col_heading level0 col0\" >0</th> \n",
       "    </tr></thead> \n",
       "<tbody>    <tr> \n",
       "        <th id=\"T_f932a84a_3dfb_11e9_8472_28d24441a969level0_row0\" class=\"row_heading level0 row0\" >allsuites</th> \n",
       "        <td id=\"T_f932a84a_3dfb_11e9_8472_28d24441a969row0_col0\" class=\"data row0 col0\" >-0.01566</td> \n",
       "    </tr>    <tr> \n",
       "        <th id=\"T_f932a84a_3dfb_11e9_8472_28d24441a969level0_row1\" class=\"row_heading level0 row1\" >boutique</th> \n",
       "        <td id=\"T_f932a84a_3dfb_11e9_8472_28d24441a969row1_col0\" class=\"data row1 col0\" >-0.03987</td> \n",
       "    </tr>    <tr> \n",
       "        <th id=\"T_f932a84a_3dfb_11e9_8472_28d24441a969level0_row2\" class=\"row_heading level0 row2\" >casino</th> \n",
       "        <td id=\"T_f932a84a_3dfb_11e9_8472_28d24441a969row2_col0\" class=\"data row2 col0\" >0.74781</td> \n",
       "    </tr>    <tr> \n",
       "        <th id=\"T_f932a84a_3dfb_11e9_8472_28d24441a969level0_row3\" class=\"row_heading level0 row3\" >cbd</th> \n",
       "        <td id=\"T_f932a84a_3dfb_11e9_8472_28d24441a969row3_col0\" class=\"data row3 col0\" >0.72929</td> \n",
       "    </tr>    <tr> \n",
       "        <th id=\"T_f932a84a_3dfb_11e9_8472_28d24441a969level0_row4\" class=\"row_heading level0 row4\" >conference</th> \n",
       "        <td id=\"T_f932a84a_3dfb_11e9_8472_28d24441a969row4_col0\" class=\"data row4 col0\" >0.22607</td> \n",
       "    </tr>    <tr> \n",
       "        <th id=\"T_f932a84a_3dfb_11e9_8472_28d24441a969level0_row5\" class=\"row_heading level0 row5\" >convention</th> \n",
       "        <td id=\"T_f932a84a_3dfb_11e9_8472_28d24441a969row5_col0\" class=\"data row5 col0\" >0.32923</td> \n",
       "    </tr>    <tr> \n",
       "        <th id=\"T_f932a84a_3dfb_11e9_8472_28d24441a969level0_row6\" class=\"row_heading level0 row6\" >golf</th> \n",
       "        <td id=\"T_f932a84a_3dfb_11e9_8472_28d24441a969row6_col0\" class=\"data row6 col0\" >0.10225</td> \n",
       "    </tr>    <tr> \n",
       "        <th id=\"T_f932a84a_3dfb_11e9_8472_28d24441a969level0_row7\" class=\"row_heading level0 row7\" >indoorcorridors</th> \n",
       "        <td id=\"T_f932a84a_3dfb_11e9_8472_28d24441a969row7_col0\" class=\"data row7 col0\" >0.01384</td> \n",
       "    </tr>    <tr> \n",
       "        <th id=\"T_f932a84a_3dfb_11e9_8472_28d24441a969level0_row8\" class=\"row_heading level0 row8\" >log1_age</th> \n",
       "        <td id=\"T_f932a84a_3dfb_11e9_8472_28d24441a969row8_col0\" class=\"data row8 col0\" >-0.11058</td> \n",
       "    </tr>    <tr> \n",
       "        <th id=\"T_f932a84a_3dfb_11e9_8472_28d24441a969level0_row9\" class=\"row_heading level0 row9\" >log1_landsf</th> \n",
       "        <td id=\"T_f932a84a_3dfb_11e9_8472_28d24441a969row9_col0\" class=\"data row9 col0\" >0.00363</td> \n",
       "    </tr>    <tr> \n",
       "        <th id=\"T_f932a84a_3dfb_11e9_8472_28d24441a969level0_row10\" class=\"row_heading level0 row10\" >log1_largestmeetingspace</th> \n",
       "        <td id=\"T_f932a84a_3dfb_11e9_8472_28d24441a969row10_col0\" class=\"data row10 col0\" >0.00154</td> \n",
       "    </tr>    <tr> \n",
       "        <th id=\"T_f932a84a_3dfb_11e9_8472_28d24441a969level0_row11\" class=\"row_heading level0 row11\" >log_floors</th> \n",
       "        <td id=\"T_f932a84a_3dfb_11e9_8472_28d24441a969row11_col0\" class=\"data row11 col0\" >0.10042</td> \n",
       "    </tr>    <tr> \n",
       "        <th id=\"T_f932a84a_3dfb_11e9_8472_28d24441a969level0_row12\" class=\"row_heading level0 row12\" >log_rooms</th> \n",
       "        <td id=\"T_f932a84a_3dfb_11e9_8472_28d24441a969row12_col0\" class=\"data row12 col0\" >0.44248</td> \n",
       "    </tr>    <tr> \n",
       "        <th id=\"T_f932a84a_3dfb_11e9_8472_28d24441a969level0_row13\" class=\"row_heading level0 row13\" >log_sizesf</th> \n",
       "        <td id=\"T_f932a84a_3dfb_11e9_8472_28d24441a969row13_col0\" class=\"data row13 col0\" >0.18693</td> \n",
       "    </tr>    <tr> \n",
       "        <th id=\"T_f932a84a_3dfb_11e9_8472_28d24441a969level0_row14\" class=\"row_heading level0 row14\" >multiproperty</th> \n",
       "        <td id=\"T_f932a84a_3dfb_11e9_8472_28d24441a969row14_col0\" class=\"data row14 col0\" >-0.04945</td> \n",
       "    </tr>    <tr> \n",
       "        <th id=\"T_f932a84a_3dfb_11e9_8472_28d24441a969level0_row15\" class=\"row_heading level0 row15\" >portfolio</th> \n",
       "        <td id=\"T_f932a84a_3dfb_11e9_8472_28d24441a969row15_col0\" class=\"data row15 col0\" >0.20153</td> \n",
       "    </tr>    <tr> \n",
       "        <th id=\"T_f932a84a_3dfb_11e9_8472_28d24441a969level0_row16\" class=\"row_heading level0 row16\" >restaurant</th> \n",
       "        <td id=\"T_f932a84a_3dfb_11e9_8472_28d24441a969row16_col0\" class=\"data row16 col0\" >-0.00400</td> \n",
       "    </tr>    <tr> \n",
       "        <th id=\"T_f932a84a_3dfb_11e9_8472_28d24441a969level0_row17\" class=\"row_heading level0 row17\" >selfrun</th> \n",
       "        <td id=\"T_f932a84a_3dfb_11e9_8472_28d24441a969row17_col0\" class=\"data row17 col0\" >-0.07715</td> \n",
       "    </tr>    <tr> \n",
       "        <th id=\"T_f932a84a_3dfb_11e9_8472_28d24441a969level0_row18\" class=\"row_heading level0 row18\" >ski</th> \n",
       "        <td id=\"T_f932a84a_3dfb_11e9_8472_28d24441a969row18_col0\" class=\"data row18 col0\" >0.25684</td> \n",
       "    </tr>    <tr> \n",
       "        <th id=\"T_f932a84a_3dfb_11e9_8472_28d24441a969level0_row19\" class=\"row_heading level0 row19\" >spa</th> \n",
       "        <td id=\"T_f932a84a_3dfb_11e9_8472_28d24441a969row19_col0\" class=\"data row19 col0\" >0.14897</td> \n",
       "    </tr></tbody> \n",
       "</table> "
      ],
      "text/plain": [
       "<pandas.io.formats.style.Styler at 0x29696f1a358>"
      ]
     },
     "execution_count": 210,
     "metadata": {},
     "output_type": "execute_result"
    }
   ],
   "source": [
    "# Print results for non-categorical variables\n",
    "pd.DataFrame(coef \n",
    "    .loc[~ coef.index.str.startswith('x')]) \\\n",
    "    .sort_index() \\\n",
    "    .style.format('{:.5F}')"
   ]
  },
  {
   "cell_type": "code",
   "execution_count": 211,
   "metadata": {},
   "outputs": [
    {
     "data": {
      "text/plain": [
       "0.8567275967358019"
      ]
     },
     "execution_count": 211,
     "metadata": {},
     "output_type": "execute_result"
    }
   ],
   "source": [
    "# R_2 on TRAINING set\n",
    "y_lr= lr.predict(X_train)\n",
    "r2_lr_train = r2_score(y_train, y_lr)\n",
    "r2_lr_train"
   ]
  },
  {
   "cell_type": "code",
   "execution_count": 212,
   "metadata": {},
   "outputs": [
    {
     "data": {
      "text/plain": [
       "0.5850465400933892"
      ]
     },
     "execution_count": 212,
     "metadata": {},
     "output_type": "execute_result"
    }
   ],
   "source": [
    "# R_2 on TEST set\n",
    "y_lr= lr.predict(X_test)\n",
    "r2_lr= r2_score(y_test, y_lr)\n",
    "r2_lr"
   ]
  },
  {
   "cell_type": "markdown",
   "metadata": {},
   "source": [
    "Let's wait with interpreting these results until the next notebook, where we can compare the results from all models.  Thus, we will store these results for later. "
   ]
  },
  {
   "cell_type": "code",
   "execution_count": 213,
   "metadata": {},
   "outputs": [
    {
     "data": {
      "text/plain": [
       "[0.8567275967358019, 0.5850465400933892]"
      ]
     },
     "execution_count": 213,
     "metadata": {},
     "output_type": "execute_result"
    }
   ],
   "source": [
    "r2_up = [r2_lr_train, r2_lr]\n",
    "r2_up"
   ]
  },
  {
   "cell_type": "markdown",
   "metadata": {},
   "source": [
    "#### Logs or squares\n",
    "Now let's estimate the same type of model but with different predictors: Instead of using all logs for numeric variables, I will follow Das et al (2017) and instead use a square term for age and floors, as well as a the levels (rather than log) for the amount of land included."
   ]
  },
  {
   "cell_type": "code",
   "execution_count": 218,
   "metadata": {},
   "outputs": [],
   "source": [
    "v2include = \\\n",
    "        ['allsuites', 'boutique', 'casino', 'cbd', \n",
    "         'conference', 'convention', 'golf', 'indoorcorridors',\n",
    "         'multiproperty', 'portfolio', 'restaurant', \n",
    "         'ski', 'spa', 'landsf', 'age', 'age_2',\n",
    "         'log1_largestmeetingspace', 'log_sizesf', 'log_rooms', \n",
    "         'floors', 'floors_2', 'selfrun']"
   ]
  },
  {
   "cell_type": "code",
   "execution_count": 219,
   "metadata": {},
   "outputs": [],
   "source": [
    "# Non-categorical columns for X\n",
    "X_train_rest= data_train.loc[:, v2include]\n",
    "X_test_rest= data_test.loc[:, v2include]\n",
    "\n",
    "# Merge categorical and non-categorical variables\n",
    "X_train= np.concatenate([X_train_rest] + X_train_cats, \n",
    "                         axis=1)\n",
    "X_test= np.concatenate([X_test_rest] + X_test_cats, \n",
    "                         axis=1)\n",
    "\n",
    "# Get feature names\n",
    "feature_names= list(X_train_rest.columns) \\\n",
    "    + feature_names_cats\n",
    "# Create target variables\n",
    "y_train = data_train.loc[:, 'log_saleprice']\n",
    "y_test = data_test.loc[:, 'log_saleprice']"
   ]
  },
  {
   "cell_type": "code",
   "execution_count": 220,
   "metadata": {},
   "outputs": [],
   "source": [
    "from sklearn.linear_model import LinearRegression\n",
    "lr= LinearRegression(fit_intercept=False)\n",
    "lr.fit(X_train, y_train)\n",
    "# Get sorted coefficients with feature names\n",
    "coef= pd.Series(\n",
    "    lr.coef_,\n",
    "    index=feature_names) \\\n",
    "    .sort_values(ascending=False)"
   ]
  },
  {
   "cell_type": "code",
   "execution_count": 221,
   "metadata": {},
   "outputs": [
    {
     "data": {
      "text/html": [
       "<style  type=\"text/css\" >\n",
       "</style>  \n",
       "<table id=\"T_444c1f08_3dfc_11e9_8769_28d24441a969\" > \n",
       "<thead>    <tr> \n",
       "        <th class=\"blank level0\" ></th> \n",
       "        <th class=\"col_heading level0 col0\" >0</th> \n",
       "    </tr></thead> \n",
       "<tbody>    <tr> \n",
       "        <th id=\"T_444c1f08_3dfc_11e9_8769_28d24441a969level0_row0\" class=\"row_heading level0 row0\" >age</th> \n",
       "        <td id=\"T_444c1f08_3dfc_11e9_8769_28d24441a969row0_col0\" class=\"data row0 col0\" >-0.00737</td> \n",
       "    </tr>    <tr> \n",
       "        <th id=\"T_444c1f08_3dfc_11e9_8769_28d24441a969level0_row1\" class=\"row_heading level0 row1\" >age_2</th> \n",
       "        <td id=\"T_444c1f08_3dfc_11e9_8769_28d24441a969row1_col0\" class=\"data row1 col0\" >0.00004</td> \n",
       "    </tr>    <tr> \n",
       "        <th id=\"T_444c1f08_3dfc_11e9_8769_28d24441a969level0_row2\" class=\"row_heading level0 row2\" >allsuites</th> \n",
       "        <td id=\"T_444c1f08_3dfc_11e9_8769_28d24441a969row2_col0\" class=\"data row2 col0\" >-0.01015</td> \n",
       "    </tr>    <tr> \n",
       "        <th id=\"T_444c1f08_3dfc_11e9_8769_28d24441a969level0_row3\" class=\"row_heading level0 row3\" >boutique</th> \n",
       "        <td id=\"T_444c1f08_3dfc_11e9_8769_28d24441a969row3_col0\" class=\"data row3 col0\" >-0.04466</td> \n",
       "    </tr>    <tr> \n",
       "        <th id=\"T_444c1f08_3dfc_11e9_8769_28d24441a969level0_row4\" class=\"row_heading level0 row4\" >casino</th> \n",
       "        <td id=\"T_444c1f08_3dfc_11e9_8769_28d24441a969row4_col0\" class=\"data row4 col0\" >0.73540</td> \n",
       "    </tr>    <tr> \n",
       "        <th id=\"T_444c1f08_3dfc_11e9_8769_28d24441a969level0_row5\" class=\"row_heading level0 row5\" >cbd</th> \n",
       "        <td id=\"T_444c1f08_3dfc_11e9_8769_28d24441a969row5_col0\" class=\"data row5 col0\" >0.69365</td> \n",
       "    </tr>    <tr> \n",
       "        <th id=\"T_444c1f08_3dfc_11e9_8769_28d24441a969level0_row6\" class=\"row_heading level0 row6\" >conference</th> \n",
       "        <td id=\"T_444c1f08_3dfc_11e9_8769_28d24441a969row6_col0\" class=\"data row6 col0\" >0.22503</td> \n",
       "    </tr>    <tr> \n",
       "        <th id=\"T_444c1f08_3dfc_11e9_8769_28d24441a969level0_row7\" class=\"row_heading level0 row7\" >convention</th> \n",
       "        <td id=\"T_444c1f08_3dfc_11e9_8769_28d24441a969row7_col0\" class=\"data row7 col0\" >0.31264</td> \n",
       "    </tr>    <tr> \n",
       "        <th id=\"T_444c1f08_3dfc_11e9_8769_28d24441a969level0_row8\" class=\"row_heading level0 row8\" >floors</th> \n",
       "        <td id=\"T_444c1f08_3dfc_11e9_8769_28d24441a969row8_col0\" class=\"data row8 col0\" >0.02832</td> \n",
       "    </tr>    <tr> \n",
       "        <th id=\"T_444c1f08_3dfc_11e9_8769_28d24441a969level0_row9\" class=\"row_heading level0 row9\" >floors_2</th> \n",
       "        <td id=\"T_444c1f08_3dfc_11e9_8769_28d24441a969row9_col0\" class=\"data row9 col0\" >-0.00051</td> \n",
       "    </tr>    <tr> \n",
       "        <th id=\"T_444c1f08_3dfc_11e9_8769_28d24441a969level0_row10\" class=\"row_heading level0 row10\" >golf</th> \n",
       "        <td id=\"T_444c1f08_3dfc_11e9_8769_28d24441a969row10_col0\" class=\"data row10 col0\" >0.06079</td> \n",
       "    </tr>    <tr> \n",
       "        <th id=\"T_444c1f08_3dfc_11e9_8769_28d24441a969level0_row11\" class=\"row_heading level0 row11\" >indoorcorridors</th> \n",
       "        <td id=\"T_444c1f08_3dfc_11e9_8769_28d24441a969row11_col0\" class=\"data row11 col0\" >0.01657</td> \n",
       "    </tr>    <tr> \n",
       "        <th id=\"T_444c1f08_3dfc_11e9_8769_28d24441a969level0_row12\" class=\"row_heading level0 row12\" >landsf</th> \n",
       "        <td id=\"T_444c1f08_3dfc_11e9_8769_28d24441a969row12_col0\" class=\"data row12 col0\" >0.00000</td> \n",
       "    </tr>    <tr> \n",
       "        <th id=\"T_444c1f08_3dfc_11e9_8769_28d24441a969level0_row13\" class=\"row_heading level0 row13\" >log1_largestmeetingspace</th> \n",
       "        <td id=\"T_444c1f08_3dfc_11e9_8769_28d24441a969row13_col0\" class=\"data row13 col0\" >0.00149</td> \n",
       "    </tr>    <tr> \n",
       "        <th id=\"T_444c1f08_3dfc_11e9_8769_28d24441a969level0_row14\" class=\"row_heading level0 row14\" >log_rooms</th> \n",
       "        <td id=\"T_444c1f08_3dfc_11e9_8769_28d24441a969row14_col0\" class=\"data row14 col0\" >0.43780</td> \n",
       "    </tr>    <tr> \n",
       "        <th id=\"T_444c1f08_3dfc_11e9_8769_28d24441a969level0_row15\" class=\"row_heading level0 row15\" >log_sizesf</th> \n",
       "        <td id=\"T_444c1f08_3dfc_11e9_8769_28d24441a969row15_col0\" class=\"data row15 col0\" >0.19471</td> \n",
       "    </tr>    <tr> \n",
       "        <th id=\"T_444c1f08_3dfc_11e9_8769_28d24441a969level0_row16\" class=\"row_heading level0 row16\" >multiproperty</th> \n",
       "        <td id=\"T_444c1f08_3dfc_11e9_8769_28d24441a969row16_col0\" class=\"data row16 col0\" >-0.05327</td> \n",
       "    </tr>    <tr> \n",
       "        <th id=\"T_444c1f08_3dfc_11e9_8769_28d24441a969level0_row17\" class=\"row_heading level0 row17\" >portfolio</th> \n",
       "        <td id=\"T_444c1f08_3dfc_11e9_8769_28d24441a969row17_col0\" class=\"data row17 col0\" >0.19091</td> \n",
       "    </tr>    <tr> \n",
       "        <th id=\"T_444c1f08_3dfc_11e9_8769_28d24441a969level0_row18\" class=\"row_heading level0 row18\" >restaurant</th> \n",
       "        <td id=\"T_444c1f08_3dfc_11e9_8769_28d24441a969row18_col0\" class=\"data row18 col0\" >-0.00211</td> \n",
       "    </tr>    <tr> \n",
       "        <th id=\"T_444c1f08_3dfc_11e9_8769_28d24441a969level0_row19\" class=\"row_heading level0 row19\" >selfrun</th> \n",
       "        <td id=\"T_444c1f08_3dfc_11e9_8769_28d24441a969row19_col0\" class=\"data row19 col0\" >-0.08168</td> \n",
       "    </tr>    <tr> \n",
       "        <th id=\"T_444c1f08_3dfc_11e9_8769_28d24441a969level0_row20\" class=\"row_heading level0 row20\" >ski</th> \n",
       "        <td id=\"T_444c1f08_3dfc_11e9_8769_28d24441a969row20_col0\" class=\"data row20 col0\" >0.25838</td> \n",
       "    </tr>    <tr> \n",
       "        <th id=\"T_444c1f08_3dfc_11e9_8769_28d24441a969level0_row21\" class=\"row_heading level0 row21\" >spa</th> \n",
       "        <td id=\"T_444c1f08_3dfc_11e9_8769_28d24441a969row21_col0\" class=\"data row21 col0\" >0.14042</td> \n",
       "    </tr></tbody> \n",
       "</table> "
      ],
      "text/plain": [
       "<pandas.io.formats.style.Styler at 0x2969734dda0>"
      ]
     },
     "execution_count": 221,
     "metadata": {},
     "output_type": "execute_result"
    }
   ],
   "source": [
    "# Print results for non-categorical variables\n",
    "pd.DataFrame(coef \n",
    "    .loc[~ coef.index.str.startswith('x')]) \\\n",
    "    .sort_index() \\\n",
    "    .style.format('{:.5F}')"
   ]
  },
  {
   "cell_type": "code",
   "execution_count": 222,
   "metadata": {},
   "outputs": [
    {
     "data": {
      "text/plain": [
       "0.8565506116601053"
      ]
     },
     "execution_count": 222,
     "metadata": {},
     "output_type": "execute_result"
    }
   ],
   "source": [
    "# R_2 on TRAINING set\n",
    "y_lr= lr.predict(X_train)\n",
    "r2_lr_train = r2_score(y_train, y_lr)\n",
    "r2_lr_train"
   ]
  },
  {
   "cell_type": "code",
   "execution_count": 223,
   "metadata": {},
   "outputs": [
    {
     "data": {
      "text/plain": [
       "0.5890885744341479"
      ]
     },
     "execution_count": 223,
     "metadata": {},
     "output_type": "execute_result"
    }
   ],
   "source": [
    "# R_2 on TEST set\n",
    "y_lr= lr.predict(X_test)\n",
    "r2_lr= r2_score(y_test, y_lr)\n",
    "r2_lr"
   ]
  },
  {
   "cell_type": "markdown",
   "metadata": {},
   "source": [
    "For comparison, let's print the results from the model using all logs."
   ]
  },
  {
   "cell_type": "code",
   "execution_count": 224,
   "metadata": {},
   "outputs": [
    {
     "data": {
      "text/plain": [
       "[0.8567275967358019, 0.5850465400933892]"
      ]
     },
     "execution_count": 224,
     "metadata": {},
     "output_type": "execute_result"
    }
   ],
   "source": [
    "# R_2 for model with all logs \n",
    "# (for training and test set, respectively)\n",
    "r2_up"
   ]
  },
  {
   "cell_type": "markdown",
   "metadata": {},
   "source": [
    "We see that the two models performed very similarly, especially on the training set. On the test set, the model with polynomial terms performs slightly better than the model with all logs.  However, the difference is likely within the margin of error. (Indeed, when I tried a different specification that used a linear time trend, I got the reverse result.)  Thus, I will stick with the model with all logs for now, since this is more robust to outliers: As already mentioned, polynomials can give predictions that are far off for observations that have variables with extreme values, such as very old buildings."
   ]
  },
  {
   "cell_type": "markdown",
   "metadata": {},
   "source": [
    "### Pooled"
   ]
  },
  {
   "cell_type": "markdown",
   "metadata": {},
   "source": [
    "The next step is to estimate the pooled model without regularization.  To do so, we first repeat the preprocessing steps but do not perform one-hot encoding for the three categorical variables that have a large number of categories."
   ]
  },
  {
   "cell_type": "code",
   "execution_count": 225,
   "metadata": {},
   "outputs": [],
   "source": [
    "# Categorical variables\n",
    "cats = ['location', 'category', 'operation', \n",
    "        'year', 'quarter']\n",
    "# Categorical variables to exclude\n",
    "cats_out = ['msa', 'tract', 'saleaffiliation']\n",
    "# Instantiate one-hot encoder\n",
    "ohe = OneHotEncoder(handle_unknown='ignore',\n",
    "                    sparse=False)\n",
    "# Create lists to store encodings for each variable\n",
    "X_train_cats = []\n",
    "X_test_cats = []\n",
    "feature_names_cats = []\n",
    "for cat in cats:\n",
    "    # Encode variable i for TEST data\n",
    "    ohe_train_i = ohe.fit_transform(\n",
    "                data_train.loc[:, [cat]])\n",
    "    # Encode variable i for TRAIN data\n",
    "    ohe_test_i = ohe.transform(\n",
    "                data_test.loc[:, [cat]])\n",
    "    \n",
    "    # Discard first column and save\n",
    "    X_train_cats.append(ohe_train_i[:,1:])\n",
    "    X_test_cats.append(ohe_test_i[:,1:])\n",
    "    \n",
    "    # Save feature names\n",
    "    feature_names_cats.extend(\n",
    "        ohe.get_feature_names()[1:])"
   ]
  },
  {
   "cell_type": "code",
   "execution_count": 226,
   "metadata": {},
   "outputs": [
    {
     "name": "stdout",
     "output_type": "stream",
     "text": [
      "Variables excluded:  ['year_2', 'year_3', 'age_2', 'age_3', 'floors_2', 'landsf', 'age', 'largestmeetingspace', 'sizesf', 'rooms', 'floors', 'saleprice', 'log_saleprice', 'id', 'new']\n"
     ]
    }
   ],
   "source": [
    "# List of variables to exclude from X\n",
    "v2exclude= list(\n",
    "    data_train.columns[\n",
    "        data_train.columns.str.contains(r'_[23]')]) # Polynomials\n",
    "v2exclude.extend(\n",
    "    ['landsf', 'age', 'largestmeetingspace', 'sizesf', # Levels\n",
    "     'rooms','floors'])\n",
    "v2exclude.extend(\n",
    "    ['saleprice', 'log_saleprice', 'id', 'new'])\n",
    "# Print to make sure no variables are accidentally excluded\n",
    "print('Variables excluded: ', v2exclude)"
   ]
  },
  {
   "cell_type": "code",
   "execution_count": 227,
   "metadata": {},
   "outputs": [],
   "source": [
    "# Non-categorical columns for X\n",
    "X_train_rest= data_train.drop(cats + cats_out + v2exclude,\n",
    "                               axis=1)\n",
    "X_test_rest= data_test.drop(cats + cats_out + v2exclude,\n",
    "                             axis=1)\n",
    "# Merge categorical and non-categorical variables\n",
    "X_train= np.concatenate([X_train_rest] + X_train_cats, \n",
    "                         axis=1)\n",
    "X_test= np.concatenate([X_test_rest] + X_test_cats, \n",
    "                         axis=1)\n",
    "\n",
    "# Get feature names\n",
    "feature_names= list(X_train_rest.columns) \\\n",
    "    + feature_names_cats\n",
    "# Create target variables\n",
    "y_train = data_train.loc[:, 'log_saleprice']\n",
    "y_test = data_test.loc[:, 'log_saleprice']"
   ]
  },
  {
   "cell_type": "markdown",
   "metadata": {},
   "source": [
    "Now we are ready again to estimate the model."
   ]
  },
  {
   "cell_type": "code",
   "execution_count": 228,
   "metadata": {},
   "outputs": [
    {
     "data": {
      "text/plain": [
       "x0_Luxury Class             1.666332\n",
       "x0_Upper Upscale Class      1.184319\n",
       "x0_Upscale Class            0.898120\n",
       "casino                      0.696283\n",
       "x0_Upper Midscale Class     0.554321\n",
       "log_rooms                   0.467119\n",
       "x0_Urban                    0.315730\n",
       "log_floors                  0.290715\n",
       "convention                  0.281182\n",
       "spa                         0.270852\n",
       "portfolio                   0.254066\n",
       "x0_Midscale Class           0.235429\n",
       "conference                  0.230456\n",
       "x0_Resort                   0.224743\n",
       "golf                        0.135052\n",
       "boutique                    0.130072\n",
       "log_sizesf                  0.081230\n",
       "restaurant                  0.042378\n",
       "x0_4                        0.036075\n",
       "allsuites                   0.028218\n",
       "multiproperty               0.026801\n",
       "x0_3                        0.018496\n",
       "log1_largestmeetingspace   -0.013087\n",
       "indoorcorridors            -0.020416\n",
       "x0_2                       -0.025224\n",
       "log1_landsf                -0.028681\n",
       "cbd                        -0.040998\n",
       "x0_Suburban                -0.049544\n",
       "selfrun                    -0.097275\n",
       "ski                        -0.100907\n",
       "log1_age                   -0.122570\n",
       "x0_Franchise               -0.154934\n",
       "x0_Small Metro/Town        -0.195506\n",
       "x0_Independent             -0.204187\n",
       "x0_Interstate              -0.205399\n",
       "x0_2000                    -0.477976\n",
       "x0_2016                    -0.502132\n",
       "x0_2007                    -0.585350\n",
       "x0_2004                    -0.631789\n",
       "x0_2015                    -0.643029\n",
       "x0_1998                    -0.647251\n",
       "x0_2008                    -0.659997\n",
       "x0_2003                    -0.743510\n",
       "x0_2014                    -0.746934\n",
       "x0_1993                    -0.747698\n",
       "x0_2005                    -0.752032\n",
       "x0_2001                    -0.757654\n",
       "x0_2006                    -0.759520\n",
       "x0_2013                    -0.873526\n",
       "x0_2009                    -0.910439\n",
       "x0_2010                    -0.952261\n",
       "x0_2012                    -0.957405\n",
       "x0_2011                    -0.957732\n",
       "x0_2002                    -1.603999\n",
       "x0_1996                    -2.009283\n",
       "x0_1994                    -2.040058\n",
       "dtype: float64"
      ]
     },
     "execution_count": 228,
     "metadata": {},
     "output_type": "execute_result"
    }
   ],
   "source": [
    "from sklearn.linear_model import LinearRegression\n",
    "lr = LinearRegression(fit_intercept=True)\n",
    "lr.fit(X_train, y_train)\n",
    "# Get sorted coefficients with feature names\n",
    "coef= pd.Series(\n",
    "    lr.coef_,\n",
    "    index=feature_names) \\\n",
    "    .sort_values(ascending=False)\n",
    "coef"
   ]
  },
  {
   "cell_type": "markdown",
   "metadata": {},
   "source": [
    "Let's print the explained variance for training and test set."
   ]
  },
  {
   "cell_type": "code",
   "execution_count": 229,
   "metadata": {},
   "outputs": [
    {
     "data": {
      "text/plain": [
       "0.722600681359757"
      ]
     },
     "execution_count": 229,
     "metadata": {},
     "output_type": "execute_result"
    }
   ],
   "source": [
    "# R_2 on TRAINING set\n",
    "y_lr= lr.predict(X_train)\n",
    "r2_lr_train = r2_score(y_train, y_lr)\n",
    "r2_lr_train"
   ]
  },
  {
   "cell_type": "code",
   "execution_count": 230,
   "metadata": {},
   "outputs": [
    {
     "data": {
      "text/plain": [
       "0.7810508365295534"
      ]
     },
     "execution_count": 230,
     "metadata": {},
     "output_type": "execute_result"
    }
   ],
   "source": [
    "# R_2 on TEST set\n",
    "y_lr= lr.predict(X_test)\n",
    "r2_lr= r2_score(y_test, y_lr)\n",
    "r2_lr"
   ]
  },
  {
   "cell_type": "code",
   "execution_count": 231,
   "metadata": {},
   "outputs": [
    {
     "data": {
      "text/plain": [
       "[0.722600681359757, 0.7810508365295534]"
      ]
     },
     "execution_count": 231,
     "metadata": {},
     "output_type": "execute_result"
    }
   ],
   "source": [
    "# Save performance\n",
    "r2_p = [r2_lr_train, r2_lr]\n",
    "r2_p"
   ]
  },
  {
   "cell_type": "markdown",
   "metadata": {},
   "source": [
    "Surprisingly, the model does a little better on the test set. On average, we would expect it to do worse. However, there is variance to our estimated performance on training and test set.  In our case, this variance is increased by the fact that we don't have a huge sample size (the test set contains about 1300 observations), and that we are using a single validation set rather than cross-validation in order to take into account the time-series nature of the data. Even more importantly, the training and test set do not come from the same distribution, because we split the data based on time.  It seems that the newer data were easier to predict, maybe because we have more data for the intercept of year."
   ]
  },
  {
   "cell_type": "markdown",
   "metadata": {},
   "source": [
    "## Linear model with elastic net regularization\n",
    "### Unpooled"
   ]
  },
  {
   "cell_type": "markdown",
   "metadata": {},
   "source": [
    "Let's perform the preprocessing steps again.  By contrast to the models without regularization, we do not get rid of the first category for each categorical variables.  The reason this is not necessary is that regularization is an alternative way to avoid collinearity."
   ]
  },
  {
   "cell_type": "code",
   "execution_count": 232,
   "metadata": {},
   "outputs": [],
   "source": [
    "# Categorical variables\n",
    "cats = ['msa', 'tract', 'location', 'category',\n",
    "        'saleaffiliation', 'operation', 'year',\n",
    "        'quarter']\n",
    "# Perform one-hot encoding\n",
    "ohe = OneHotEncoder(handle_unknown='ignore',\n",
    "                    sparse=False)\n",
    "X_train_cats = ohe.fit_transform(\n",
    "    data_train.loc[:, cats])        \n",
    "X_test_cats = ohe.transform(\n",
    "    data_test.loc[:, cats])"
   ]
  },
  {
   "cell_type": "code",
   "execution_count": 233,
   "metadata": {},
   "outputs": [
    {
     "name": "stdout",
     "output_type": "stream",
     "text": [
      "Variables excluded:  ['year_2', 'year_3', 'age_2', 'age_3', 'floors_2', 'landsf', 'age', 'largestmeetingspace', 'sizesf', 'rooms', 'floors', 'saleprice', 'log_saleprice', 'id', 'new']\n"
     ]
    }
   ],
   "source": [
    "# List of variables to exclude from X\n",
    "v2exclude= list(\n",
    "    data_train.columns[\n",
    "    data_train.columns.str.contains(r'_[23]')]) # Polynomials\n",
    "v2exclude.extend(\n",
    "    ['landsf', 'age', 'largestmeetingspace', 'sizesf', # Levels\n",
    "     'rooms','floors'])\n",
    "v2exclude.extend(\n",
    "    ['saleprice', 'log_saleprice', 'id', 'new'])\n",
    "# Print to make sure no variables are accidentally excluded\n",
    "print('Variables excluded: ', v2exclude)"
   ]
  },
  {
   "cell_type": "code",
   "execution_count": 234,
   "metadata": {},
   "outputs": [],
   "source": [
    "# Non-categorical columns for X\n",
    "X_train_rest= data_train.drop(cats + v2exclude,\n",
    "                               axis=1)\n",
    "X_test_rest= data_test.drop(cats + v2exclude,\n",
    "                             axis=1)\n",
    "# Merge categorical and non-categorical variables\n",
    "X_train_up = np.concatenate([X_train_rest, X_train_cats], \n",
    "                         axis=1)\n",
    "X_test_up = np.concatenate([X_test_rest, X_test_cats], \n",
    "                         axis=1)\n",
    "# X_train_up = X_train_up.drop(\n",
    "#     v2exclude, axis=1)\n",
    "# X_test_up = X_test_up.drop(\n",
    "#     v2exclude, axis=1)\n",
    "\n",
    "# Get feature names\n",
    "feature_names= list(X_train_rest.columns) \\\n",
    "    + list(ohe.get_feature_names())\n",
    "\n",
    "# Create target variables\n",
    "y_train = data_train.loc[:, 'log_saleprice']\n",
    "y_test = data_test.loc[:, 'log_saleprice']"
   ]
  },
  {
   "cell_type": "markdown",
   "metadata": {},
   "source": [
    "We can no go ahead and train the model.  Like for gradient boosting, will use Hyperopt to perform Bayesian hyperparameters optimization.  It probably does not lead to any big increase in performance or decrease in computational cost compared to a brute-force search, because computational costs for a linear model are relatively low anyways for a data set of our size. But since it is not too much of a burden to adapt the  code from XGBoost, we might as well reuse it just in case."
   ]
  },
  {
   "cell_type": "code",
   "execution_count": 235,
   "metadata": {},
   "outputs": [],
   "source": [
    "# Function to carry out hyperparameter optimization\n",
    "def find_best_hp(LEARNER, space, model_name, \n",
    "                 X_train, y_train, \n",
    "                 adjust_params=None,n_folds=5, n_jobs=-1, max_evals=20):\n",
    "    \"\"\"Find best hyperparameters for a given regressor and search space.\"\"\"\n",
    "    \n",
    "    # Trials object to track progress (not currently used)\n",
    "    trials = Trials()\n",
    "\n",
    "    # CSV file to track progress\n",
    "    progress_file_path = '../progress_' + model_name + '.csv'\n",
    "    with open(progress_file_path, 'w') as file:\n",
    "        writer = csv.writer(file)\n",
    "        # Write header to the file\n",
    "        writer.writerow(['loss', 'params'])\n",
    "\n",
    "    # Objective function to minimize\n",
    "    def objective(params, LEARNER=LEARNER, \n",
    "                  progress_file_path=progress_file_path,\n",
    "                  n_folds=n_folds, n_jobs=n_jobs):\n",
    "        \"\"\"Objective function to minimize\"\"\"\n",
    "        \n",
    "        # Adjust parameters, if specified\n",
    "        if adjust_params is not None:\n",
    "            params = adjust_params(params)\n",
    "    \n",
    "        # Instantiate LEARNER\n",
    "        learner = LEARNER(**params)\n",
    "        \n",
    "        ## Generate indices for cross-validation\n",
    "        # If only one \"fold\" is desired, split into train and validation set\n",
    "        if n_folds == 1: \n",
    "            cv = ShuffleSplit(n_splits=1, test_size=.2, \n",
    "                                        random_state=1)\n",
    "        # Otherwise, generate indices for proper cross-validation split\n",
    "        else:  \n",
    "            cv = KFold(n_folds, random_state=1)\n",
    "\n",
    "        # Compute average precision through CV / validation set\n",
    "        score = cross_val_score(learner, X_train, y_train, cv=cv,\n",
    "                                scoring='r2', n_jobs=n_jobs)\n",
    "        # Compute loss as the negative mean of the average precision scores\n",
    "        # (since hyperopt can only minimize a function)\n",
    "        loss = -score.mean()\n",
    "        \n",
    "        # Save results to csv file\n",
    "        with open(progress_file_path, 'a') as file:\n",
    "            writer = csv.writer(file)\n",
    "            writer.writerow([loss, params])\n",
    "        \n",
    "        # Return results\n",
    "        return {'loss': loss, 'params': params, 'status': STATUS_OK}\n",
    "    \n",
    "    # Minimize objective\n",
    "    best = fmin(objective, space, algo=tpe.suggest,\n",
    "                max_evals=max_evals, trials=trials)\n",
    "\n",
    "    # Get the values of the optimal parameters\n",
    "    best_params = space_eval(space, best)\n",
    "    # Adjust best parameters, if specified\n",
    "    if adjust_params is not None:\n",
    "        best_params = adjust_params(best_params)\n",
    "\n",
    "    # Re-fit the model with the optimal hyperparamters\n",
    "    learner = LEARNER(**best_params)\n",
    "    learner.fit(X_train, y_train)\n",
    "    \n",
    "    # Save model to disk\n",
    "    joblib.dump(learner, '../saved_models/' + model_name + '.joblib')\n",
    "    \n",
    "    # Print best parameters\n",
    "    print(best_params)"
   ]
  },
  {
   "cell_type": "code",
   "execution_count": 236,
   "metadata": {},
   "outputs": [
    {
     "name": "stdout",
     "output_type": "stream",
     "text": [
      "{'alpha': 0.0002751641657386846, 'l1_ratio': 0.5503451245739095, 'max_iter': 1000, 'random_state': 1, 'tol': 0.001}\n"
     ]
    }
   ],
   "source": [
    "MAX_EVALS = 50\n",
    "N_FOLDS = 20\n",
    "\n",
    "# Search space (also includes constant parameters)\n",
    "space = {\n",
    "    'max_iter': 1000,\n",
    "    'tol':1E-3,\n",
    "    'random_state': 1,\n",
    "    'alpha': hp.lognormal('alpha', np.log(1E-4), 4),\n",
    "    'l1_ratio': hp.uniform('l1_ratio', 0, 1)\n",
    "}\n",
    "\n",
    "# Find best hyperparameters (defined above)\n",
    "find_best_hp(ElasticNet, space, model_name='el_up',\n",
    "              X_train=X_train_up, y_train=y_train,\n",
    "              max_evals=MAX_EVALS, n_jobs=3, n_folds=N_FOLDS)"
   ]
  },
  {
   "cell_type": "code",
   "execution_count": 237,
   "metadata": {},
   "outputs": [],
   "source": [
    "# Load saved model, if necessary\n",
    "el_up = joblib.load('../saved_models/el_up.joblib')"
   ]
  },
  {
   "cell_type": "code",
   "execution_count": 238,
   "metadata": {},
   "outputs": [
    {
     "data": {
      "image/png": "[encoded data removed]",
      "text/plain": [
       "<Figure size 432x288 with 1 Axes>"
      ]
     },
     "metadata": {
      "needs_background": "light"
     },
     "output_type": "display_data"
    }
   ],
   "source": [
    "# Load full results from progress file\n",
    "el_up_results = pd.read_csv('../progress_el_up.csv')\n",
    "\n",
    "# Get validation score\n",
    "# Extract AP for each iteration\n",
    "r2_el_up = - el_up_results.loss\n",
    "\n",
    "# Plot r2 per iteration\n",
    "r2_el_up.plot()\n",
    "plt.title('Performance on test set')\n",
    "plt.ylabel('R_2')\n",
    "plt.xlabel('Iteration');"
   ]
  },
  {
   "cell_type": "markdown",
   "metadata": {},
   "source": [
    "This reveals that optimizing hyperparameters to regularize a linear model is relatively simple, so performance seems pretty stable without much improvement for further iterations."
   ]
  },
  {
   "cell_type": "code",
   "execution_count": 239,
   "metadata": {},
   "outputs": [
    {
     "data": {
      "text/plain": [
       "0.8455297953337058"
      ]
     },
     "execution_count": 239,
     "metadata": {},
     "output_type": "execute_result"
    }
   ],
   "source": [
    "# R_2 on TRAINING set\n",
    "y_el_up = el_up.predict(X_train_up)\n",
    "r2_el_up_train = r2_score(y_train, y_el_up)\n",
    "r2_el_up_train"
   ]
  },
  {
   "cell_type": "code",
   "execution_count": 240,
   "metadata": {},
   "outputs": [
    {
     "data": {
      "text/plain": [
       "0.8475558636319633"
      ]
     },
     "execution_count": 240,
     "metadata": {},
     "output_type": "execute_result"
    }
   ],
   "source": [
    "# R_2 on TEST set\n",
    "y_el_up = el_up.predict(X_test_up)\n",
    "r2_el_up = r2_score(y_test, y_el_up)\n",
    "r2_el_up"
   ]
  },
  {
   "cell_type": "code",
   "execution_count": 241,
   "metadata": {},
   "outputs": [
    {
     "data": {
      "text/plain": [
       "[0.8455297953337058, 0.8475558636319633]"
      ]
     },
     "execution_count": 241,
     "metadata": {},
     "output_type": "execute_result"
    }
   ],
   "source": [
    "# Save performance\n",
    "r2_up_r = [r2_el_up_train, r2_el_up]\n",
    "r2_up_r"
   ]
  },
  {
   "cell_type": "markdown",
   "metadata": {},
   "source": [
    "Examining the explained variance reveals that regularization gave us a boost in performance.  However, as mentioned above, we will save a comparison for a final notebook.\n",
    "\n",
    "Let's print the coefficients, ignoring the intercepts for all categorical variables in order to limit the size of the table."
   ]
  },
  {
   "cell_type": "code",
   "execution_count": 242,
   "metadata": {},
   "outputs": [
    {
     "data": {
      "text/html": [
       "<style  type=\"text/css\" >\n",
       "</style>  \n",
       "<table id=\"T_9ae70902_3e02_11e9_ba71_28d24441a969\" > \n",
       "<thead>    <tr> \n",
       "        <th class=\"blank level0\" ></th> \n",
       "        <th class=\"col_heading level0 col0\" >0</th> \n",
       "    </tr></thead> \n",
       "<tbody>    <tr> \n",
       "        <th id=\"T_9ae70902_3e02_11e9_ba71_28d24441a969level0_row0\" class=\"row_heading level0 row0\" >allsuites</th> \n",
       "        <td id=\"T_9ae70902_3e02_11e9_ba71_28d24441a969row0_col0\" class=\"data row0 col0\" >0.03674</td> \n",
       "    </tr>    <tr> \n",
       "        <th id=\"T_9ae70902_3e02_11e9_ba71_28d24441a969level0_row1\" class=\"row_heading level0 row1\" >boutique</th> \n",
       "        <td id=\"T_9ae70902_3e02_11e9_ba71_28d24441a969row1_col0\" class=\"data row1 col0\" >0.03764</td> \n",
       "    </tr>    <tr> \n",
       "        <th id=\"T_9ae70902_3e02_11e9_ba71_28d24441a969level0_row2\" class=\"row_heading level0 row2\" >casino</th> \n",
       "        <td id=\"T_9ae70902_3e02_11e9_ba71_28d24441a969row2_col0\" class=\"data row2 col0\" >0.65405</td> \n",
       "    </tr>    <tr> \n",
       "        <th id=\"T_9ae70902_3e02_11e9_ba71_28d24441a969level0_row3\" class=\"row_heading level0 row3\" >cbd</th> \n",
       "        <td id=\"T_9ae70902_3e02_11e9_ba71_28d24441a969row3_col0\" class=\"data row3 col0\" >0.21244</td> \n",
       "    </tr>    <tr> \n",
       "        <th id=\"T_9ae70902_3e02_11e9_ba71_28d24441a969level0_row4\" class=\"row_heading level0 row4\" >conference</th> \n",
       "        <td id=\"T_9ae70902_3e02_11e9_ba71_28d24441a969row4_col0\" class=\"data row4 col0\" >0.16512</td> \n",
       "    </tr>    <tr> \n",
       "        <th id=\"T_9ae70902_3e02_11e9_ba71_28d24441a969level0_row5\" class=\"row_heading level0 row5\" >convention</th> \n",
       "        <td id=\"T_9ae70902_3e02_11e9_ba71_28d24441a969row5_col0\" class=\"data row5 col0\" >0.32810</td> \n",
       "    </tr>    <tr> \n",
       "        <th id=\"T_9ae70902_3e02_11e9_ba71_28d24441a969level0_row6\" class=\"row_heading level0 row6\" >golf</th> \n",
       "        <td id=\"T_9ae70902_3e02_11e9_ba71_28d24441a969row6_col0\" class=\"data row6 col0\" >0.12423</td> \n",
       "    </tr>    <tr> \n",
       "        <th id=\"T_9ae70902_3e02_11e9_ba71_28d24441a969level0_row7\" class=\"row_heading level0 row7\" >indoorcorridors</th> \n",
       "        <td id=\"T_9ae70902_3e02_11e9_ba71_28d24441a969row7_col0\" class=\"data row7 col0\" >0.01002</td> \n",
       "    </tr>    <tr> \n",
       "        <th id=\"T_9ae70902_3e02_11e9_ba71_28d24441a969level0_row8\" class=\"row_heading level0 row8\" >log1_age</th> \n",
       "        <td id=\"T_9ae70902_3e02_11e9_ba71_28d24441a969row8_col0\" class=\"data row8 col0\" >-0.11188</td> \n",
       "    </tr>    <tr> \n",
       "        <th id=\"T_9ae70902_3e02_11e9_ba71_28d24441a969level0_row9\" class=\"row_heading level0 row9\" >log1_landsf</th> \n",
       "        <td id=\"T_9ae70902_3e02_11e9_ba71_28d24441a969row9_col0\" class=\"data row9 col0\" >-0.00451</td> \n",
       "    </tr>    <tr> \n",
       "        <th id=\"T_9ae70902_3e02_11e9_ba71_28d24441a969level0_row10\" class=\"row_heading level0 row10\" >log1_largestmeetingspace</th> \n",
       "        <td id=\"T_9ae70902_3e02_11e9_ba71_28d24441a969row10_col0\" class=\"data row10 col0\" >0.00020</td> \n",
       "    </tr>    <tr> \n",
       "        <th id=\"T_9ae70902_3e02_11e9_ba71_28d24441a969level0_row11\" class=\"row_heading level0 row11\" >log_floors</th> \n",
       "        <td id=\"T_9ae70902_3e02_11e9_ba71_28d24441a969row11_col0\" class=\"data row11 col0\" >0.16970</td> \n",
       "    </tr>    <tr> \n",
       "        <th id=\"T_9ae70902_3e02_11e9_ba71_28d24441a969level0_row12\" class=\"row_heading level0 row12\" >log_rooms</th> \n",
       "        <td id=\"T_9ae70902_3e02_11e9_ba71_28d24441a969row12_col0\" class=\"data row12 col0\" >0.44557</td> \n",
       "    </tr>    <tr> \n",
       "        <th id=\"T_9ae70902_3e02_11e9_ba71_28d24441a969level0_row13\" class=\"row_heading level0 row13\" >log_sizesf</th> \n",
       "        <td id=\"T_9ae70902_3e02_11e9_ba71_28d24441a969row13_col0\" class=\"data row13 col0\" >0.14693</td> \n",
       "    </tr>    <tr> \n",
       "        <th id=\"T_9ae70902_3e02_11e9_ba71_28d24441a969level0_row14\" class=\"row_heading level0 row14\" >multiproperty</th> \n",
       "        <td id=\"T_9ae70902_3e02_11e9_ba71_28d24441a969row14_col0\" class=\"data row14 col0\" >-0.02668</td> \n",
       "    </tr>    <tr> \n",
       "        <th id=\"T_9ae70902_3e02_11e9_ba71_28d24441a969level0_row15\" class=\"row_heading level0 row15\" >portfolio</th> \n",
       "        <td id=\"T_9ae70902_3e02_11e9_ba71_28d24441a969row15_col0\" class=\"data row15 col0\" >0.20422</td> \n",
       "    </tr>    <tr> \n",
       "        <th id=\"T_9ae70902_3e02_11e9_ba71_28d24441a969level0_row16\" class=\"row_heading level0 row16\" >restaurant</th> \n",
       "        <td id=\"T_9ae70902_3e02_11e9_ba71_28d24441a969row16_col0\" class=\"data row16 col0\" >0.01400</td> \n",
       "    </tr>    <tr> \n",
       "        <th id=\"T_9ae70902_3e02_11e9_ba71_28d24441a969level0_row17\" class=\"row_heading level0 row17\" >selfrun</th> \n",
       "        <td id=\"T_9ae70902_3e02_11e9_ba71_28d24441a969row17_col0\" class=\"data row17 col0\" >-0.06929</td> \n",
       "    </tr>    <tr> \n",
       "        <th id=\"T_9ae70902_3e02_11e9_ba71_28d24441a969level0_row18\" class=\"row_heading level0 row18\" >ski</th> \n",
       "        <td id=\"T_9ae70902_3e02_11e9_ba71_28d24441a969row18_col0\" class=\"data row18 col0\" >0.08424</td> \n",
       "    </tr>    <tr> \n",
       "        <th id=\"T_9ae70902_3e02_11e9_ba71_28d24441a969level0_row19\" class=\"row_heading level0 row19\" >spa</th> \n",
       "        <td id=\"T_9ae70902_3e02_11e9_ba71_28d24441a969row19_col0\" class=\"data row19 col0\" >0.18737</td> \n",
       "    </tr></tbody> \n",
       "</table> "
      ],
      "text/plain": [
       "<pandas.io.formats.style.Styler at 0x296928f5160>"
      ]
     },
     "execution_count": 242,
     "metadata": {},
     "output_type": "execute_result"
    }
   ],
   "source": [
    "# Get sorted coefficients with feature names\n",
    "coef= pd.Series(\n",
    "    el_up.coef_,\n",
    "    index=feature_names) \\\n",
    "    .sort_values(ascending=False)\n",
    "\n",
    "# Print results for non-categorical variables\n",
    "pd.DataFrame(coef \n",
    "    .loc[~ coef.index.str.startswith('x')]) \\\n",
    "    .sort_index() \\\n",
    "    .style.format('{:.5F}')"
   ]
  },
  {
   "cell_type": "markdown",
   "metadata": {},
   "source": [
    "### Pooled\n",
    "Finally, we will re-estimate the model for the pooled case. Again, we do not drop the first category when performing one-hot encoding, since regularization effectively deals with collinearity."
   ]
  },
  {
   "cell_type": "code",
   "execution_count": 280,
   "metadata": {},
   "outputs": [],
   "source": [
    "# Categorical variables to include\n",
    "cats = ['location', 'category', 'operation', \n",
    "        'year', 'quarter']\n",
    "# Categorical variables to exclude\n",
    "cats_out = ['msa', 'tract', 'saleaffiliation']\n",
    "# Perform one-hot encoding\n",
    "ohe = OneHotEncoder(handle_unknown='ignore',\n",
    "                    sparse=False)\n",
    "X_train_cats = ohe.fit_transform(\n",
    "    data_train.loc[:, cats])        \n",
    "X_test_cats = ohe.transform(\n",
    "    data_test.loc[:, cats])"
   ]
  },
  {
   "cell_type": "code",
   "execution_count": 281,
   "metadata": {},
   "outputs": [
    {
     "name": "stdout",
     "output_type": "stream",
     "text": [
      "Variables excluded:  ['year_2', 'year_3', 'age_2', 'age_3', 'floors_2', 'landsf', 'age', 'largestmeetingspace', 'sizesf', 'rooms', 'floors', 'saleprice', 'log_saleprice', 'id', 'new']\n"
     ]
    }
   ],
   "source": [
    "# List of variables to exclude from X\n",
    "v2exclude= list(\n",
    "    data_train.columns[\n",
    "    data_train.columns.str.contains(r'_[23]')]) # Polynomials\n",
    "v2exclude.extend(\n",
    "    ['landsf', 'age', 'largestmeetingspace', 'sizesf', # Levels\n",
    "     'rooms','floors'])\n",
    "v2exclude.extend(\n",
    "    ['saleprice', 'log_saleprice', 'id', 'new'])\n",
    "# Print to make sure no variables are accidentally excluded\n",
    "print('Variables excluded: ', v2exclude)"
   ]
  },
  {
   "cell_type": "code",
   "execution_count": 282,
   "metadata": {},
   "outputs": [],
   "source": [
    "# Non-categorical columns for X\n",
    "X_train_rest= data_train.drop(cats  + cats_out+ v2exclude,\n",
    "                               axis=1)\n",
    "X_test_rest= data_test.drop(cats + cats_out+ v2exclude,\n",
    "                             axis=1)\n",
    "# Merge categorical and non-categorical variables\n",
    "X_train_p = np.concatenate([X_train_rest, X_train_cats], \n",
    "                         axis=1)\n",
    "X_test_p = np.concatenate([X_test_rest, X_test_cats], \n",
    "                         axis=1)"
   ]
  },
  {
   "cell_type": "code",
   "execution_count": 283,
   "metadata": {},
   "outputs": [],
   "source": [
    "# Get feature names\n",
    "feature_names= list(X_train_rest.columns) \\\n",
    "    + list(ohe.get_feature_names())\n",
    "\n",
    "# Create target variables\n",
    "y_train = data_train.loc[:, 'log_saleprice']\n",
    "y_test = data_test.loc[:, 'log_saleprice']"
   ]
  },
  {
   "cell_type": "code",
   "execution_count": 276,
   "metadata": {},
   "outputs": [
    {
     "name": "stdout",
     "output_type": "stream",
     "text": [
      "{'alpha': 3.7701515352783604e-05, 'l1_ratio': 0.9952987471092946, 'max_iter': 1000, 'random_state': 1, 'tol': 0.001}\n"
     ]
    }
   ],
   "source": [
    "MAX_EVALS = 50\n",
    "N_FOLDS = 20\n",
    "\n",
    "# Search space (also includes constant parameters)\n",
    "space = {\n",
    "    'max_iter': 1000,\n",
    "    'tol':1E-3,\n",
    "    'random_state': 1,\n",
    "    'alpha': hp.lognormal('alpha', np.log(1E-4), 4),\n",
    "    'l1_ratio': hp.uniform('l1_ratio', 0, 1)\n",
    "}\n",
    "\n",
    "# Find best hyperparameters (defined above)\n",
    "find_best_hp(ElasticNet, space, model_name='el_p',\n",
    "              X_train=X_train_p, y_train=y_train,\n",
    "              max_evals=MAX_EVALS, n_jobs=3, n_folds=N_FOLDS)"
   ]
  },
  {
   "cell_type": "code",
   "execution_count": 300,
   "metadata": {},
   "outputs": [],
   "source": [
    "# Load saved model, if necessary\n",
    "el_p = joblib.load('../saved_models/el_p.joblib')"
   ]
  },
  {
   "cell_type": "code",
   "execution_count": 301,
   "metadata": {},
   "outputs": [
    {
     "data": {
      "image/png": "[encoded data removed]",
      "text/plain": [
       "<Figure size 432x288 with 1 Axes>"
      ]
     },
     "metadata": {
      "needs_background": "light"
     },
     "output_type": "display_data"
    }
   ],
   "source": [
    "# Load full results from progress file\n",
    "el_results = pd.read_csv('../progress_el_p.csv')\n",
    "\n",
    "# Get validation score\n",
    "# Extract AP for each iteration\n",
    "r2_el_p = - el_results.loss\n",
    "\n",
    "# Plot r2 per iteration\n",
    "r2_el_p.plot()\n",
    "plt.title('Performance on test set')\n",
    "plt.ylabel('r2')\n",
    "plt.xlabel('Iteration');"
   ]
  },
  {
   "cell_type": "markdown",
   "metadata": {},
   "source": [
    "When examining how the performance change over the iterations of the hyperparameters optimization, we see that it stayed almost stable.  This is due to the fact that hyperparameters optimization for this case is easy (compared, e.g., what we saw for gradient boosting, where we optimized over a higher-dimensional space.)"
   ]
  },
  {
   "cell_type": "code",
   "execution_count": 302,
   "metadata": {},
   "outputs": [
    {
     "data": {
      "text/plain": [
       "0.7225784583731365"
      ]
     },
     "execution_count": 302,
     "metadata": {},
     "output_type": "execute_result"
    }
   ],
   "source": [
    "# R_2 on TRAINING set\n",
    "y_el_p = el_p.predict(X_train_p)\n",
    "r2_el_p_train = r2_score(y_train, y_el_p)\n",
    "r2_el_p_train"
   ]
  },
  {
   "cell_type": "code",
   "execution_count": 305,
   "metadata": {},
   "outputs": [
    {
     "data": {
      "text/plain": [
       "0.7809748676982142"
      ]
     },
     "execution_count": 305,
     "metadata": {},
     "output_type": "execute_result"
    }
   ],
   "source": [
    "# R_2 on TEST set\n",
    "y_el_p = el_p.predict(X_test_p)\n",
    "r2_el_p = r2_score(y_test, y_el_p)\n",
    "r2_el_p"
   ]
  },
  {
   "cell_type": "code",
   "execution_count": 306,
   "metadata": {},
   "outputs": [
    {
     "data": {
      "text/plain": [
       "[0.7225784583731365, 0.7809748676982142]"
      ]
     },
     "execution_count": 306,
     "metadata": {},
     "output_type": "execute_result"
    }
   ],
   "source": [
    "# Save performance\n",
    "r2_p_r = [r2_el_p_train, r2_el_p]\n",
    "r2_p_r"
   ]
  },
  {
   "cell_type": "code",
   "execution_count": 307,
   "metadata": {},
   "outputs": [
    {
     "data": {
      "text/html": [
       "<style  type=\"text/css\" >\n",
       "</style>  \n",
       "<table id=\"T_bd378ea8_4149_11e9_b099_28d24441a969\" > \n",
       "<thead>    <tr> \n",
       "        <th class=\"blank level0\" ></th> \n",
       "        <th class=\"col_heading level0 col0\" >0</th> \n",
       "    </tr></thead> \n",
       "<tbody>    <tr> \n",
       "        <th id=\"T_bd378ea8_4149_11e9_b099_28d24441a969level0_row0\" class=\"row_heading level0 row0\" >allsuites</th> \n",
       "        <td id=\"T_bd378ea8_4149_11e9_b099_28d24441a969row0_col0\" class=\"data row0 col0\" >0.02801</td> \n",
       "    </tr>    <tr> \n",
       "        <th id=\"T_bd378ea8_4149_11e9_b099_28d24441a969level0_row1\" class=\"row_heading level0 row1\" >boutique</th> \n",
       "        <td id=\"T_bd378ea8_4149_11e9_b099_28d24441a969row1_col0\" class=\"data row1 col0\" >0.12914</td> \n",
       "    </tr>    <tr> \n",
       "        <th id=\"T_bd378ea8_4149_11e9_b099_28d24441a969level0_row2\" class=\"row_heading level0 row2\" >casino</th> \n",
       "        <td id=\"T_bd378ea8_4149_11e9_b099_28d24441a969row2_col0\" class=\"data row2 col0\" >0.68205</td> \n",
       "    </tr>    <tr> \n",
       "        <th id=\"T_bd378ea8_4149_11e9_b099_28d24441a969level0_row3\" class=\"row_heading level0 row3\" >cbd</th> \n",
       "        <td id=\"T_bd378ea8_4149_11e9_b099_28d24441a969row3_col0\" class=\"data row3 col0\" >-0.04083</td> \n",
       "    </tr>    <tr> \n",
       "        <th id=\"T_bd378ea8_4149_11e9_b099_28d24441a969level0_row4\" class=\"row_heading level0 row4\" >conference</th> \n",
       "        <td id=\"T_bd378ea8_4149_11e9_b099_28d24441a969row4_col0\" class=\"data row4 col0\" >0.22401</td> \n",
       "    </tr>    <tr> \n",
       "        <th id=\"T_bd378ea8_4149_11e9_b099_28d24441a969level0_row5\" class=\"row_heading level0 row5\" >convention</th> \n",
       "        <td id=\"T_bd378ea8_4149_11e9_b099_28d24441a969row5_col0\" class=\"data row5 col0\" >0.28051</td> \n",
       "    </tr>    <tr> \n",
       "        <th id=\"T_bd378ea8_4149_11e9_b099_28d24441a969level0_row6\" class=\"row_heading level0 row6\" >golf</th> \n",
       "        <td id=\"T_bd378ea8_4149_11e9_b099_28d24441a969row6_col0\" class=\"data row6 col0\" >0.13117</td> \n",
       "    </tr>    <tr> \n",
       "        <th id=\"T_bd378ea8_4149_11e9_b099_28d24441a969level0_row7\" class=\"row_heading level0 row7\" >indoorcorridors</th> \n",
       "        <td id=\"T_bd378ea8_4149_11e9_b099_28d24441a969row7_col0\" class=\"data row7 col0\" >-0.01987</td> \n",
       "    </tr>    <tr> \n",
       "        <th id=\"T_bd378ea8_4149_11e9_b099_28d24441a969level0_row8\" class=\"row_heading level0 row8\" >log1_age</th> \n",
       "        <td id=\"T_bd378ea8_4149_11e9_b099_28d24441a969row8_col0\" class=\"data row8 col0\" >-0.12246</td> \n",
       "    </tr>    <tr> \n",
       "        <th id=\"T_bd378ea8_4149_11e9_b099_28d24441a969level0_row9\" class=\"row_heading level0 row9\" >log1_landsf</th> \n",
       "        <td id=\"T_bd378ea8_4149_11e9_b099_28d24441a969row9_col0\" class=\"data row9 col0\" >-0.02854</td> \n",
       "    </tr>    <tr> \n",
       "        <th id=\"T_bd378ea8_4149_11e9_b099_28d24441a969level0_row10\" class=\"row_heading level0 row10\" >log1_largestmeetingspace</th> \n",
       "        <td id=\"T_bd378ea8_4149_11e9_b099_28d24441a969row10_col0\" class=\"data row10 col0\" >-0.01309</td> \n",
       "    </tr>    <tr> \n",
       "        <th id=\"T_bd378ea8_4149_11e9_b099_28d24441a969level0_row11\" class=\"row_heading level0 row11\" >log_floors</th> \n",
       "        <td id=\"T_bd378ea8_4149_11e9_b099_28d24441a969row11_col0\" class=\"data row11 col0\" >0.29065</td> \n",
       "    </tr>    <tr> \n",
       "        <th id=\"T_bd378ea8_4149_11e9_b099_28d24441a969level0_row12\" class=\"row_heading level0 row12\" >log_rooms</th> \n",
       "        <td id=\"T_bd378ea8_4149_11e9_b099_28d24441a969row12_col0\" class=\"data row12 col0\" >0.46736</td> \n",
       "    </tr>    <tr> \n",
       "        <th id=\"T_bd378ea8_4149_11e9_b099_28d24441a969level0_row13\" class=\"row_heading level0 row13\" >log_sizesf</th> \n",
       "        <td id=\"T_bd378ea8_4149_11e9_b099_28d24441a969row13_col0\" class=\"data row13 col0\" >0.08141</td> \n",
       "    </tr>    <tr> \n",
       "        <th id=\"T_bd378ea8_4149_11e9_b099_28d24441a969level0_row14\" class=\"row_heading level0 row14\" >multiproperty</th> \n",
       "        <td id=\"T_bd378ea8_4149_11e9_b099_28d24441a969row14_col0\" class=\"data row14 col0\" >0.02552</td> \n",
       "    </tr>    <tr> \n",
       "        <th id=\"T_bd378ea8_4149_11e9_b099_28d24441a969level0_row15\" class=\"row_heading level0 row15\" >portfolio</th> \n",
       "        <td id=\"T_bd378ea8_4149_11e9_b099_28d24441a969row15_col0\" class=\"data row15 col0\" >0.25386</td> \n",
       "    </tr>    <tr> \n",
       "        <th id=\"T_bd378ea8_4149_11e9_b099_28d24441a969level0_row16\" class=\"row_heading level0 row16\" >restaurant</th> \n",
       "        <td id=\"T_bd378ea8_4149_11e9_b099_28d24441a969row16_col0\" class=\"data row16 col0\" >0.04196</td> \n",
       "    </tr>    <tr> \n",
       "        <th id=\"T_bd378ea8_4149_11e9_b099_28d24441a969level0_row17\" class=\"row_heading level0 row17\" >selfrun</th> \n",
       "        <td id=\"T_bd378ea8_4149_11e9_b099_28d24441a969row17_col0\" class=\"data row17 col0\" >-0.09624</td> \n",
       "    </tr>    <tr> \n",
       "        <th id=\"T_bd378ea8_4149_11e9_b099_28d24441a969level0_row18\" class=\"row_heading level0 row18\" >ski</th> \n",
       "        <td id=\"T_bd378ea8_4149_11e9_b099_28d24441a969row18_col0\" class=\"data row18 col0\" >-0.07958</td> \n",
       "    </tr>    <tr> \n",
       "        <th id=\"T_bd378ea8_4149_11e9_b099_28d24441a969level0_row19\" class=\"row_heading level0 row19\" >spa</th> \n",
       "        <td id=\"T_bd378ea8_4149_11e9_b099_28d24441a969row19_col0\" class=\"data row19 col0\" >0.27035</td> \n",
       "    </tr></tbody> \n",
       "</table> "
      ],
      "text/plain": [
       "<pandas.io.formats.style.Styler at 0x29692b800f0>"
      ]
     },
     "execution_count": 307,
     "metadata": {},
     "output_type": "execute_result"
    }
   ],
   "source": [
    "# Get sorted coefficients with feature names\n",
    "coef= pd.Series(\n",
    "    el_p.coef_,\n",
    "    index=feature_names) \\\n",
    "    .sort_values(ascending=False)\n",
    "\n",
    "# Print results for non-categorical variables\n",
    "pd.DataFrame(coef \n",
    "    .loc[~ coef.index.str.startswith('x')]) \\\n",
    "    .sort_index() \\\n",
    "    .style.format('{:.5F}')"
   ]
  },
  {
   "cell_type": "markdown",
   "metadata": {},
   "source": [
    "## Save performance\n",
    "Finally, we concatenate the performance of all linear models into a data frame and save it to disk. We will load this in the final notebook, where we compare the performance of these models with each other and with the performance of gradient boosting."
   ]
  },
  {
   "cell_type": "code",
   "execution_count": 309,
   "metadata": {},
   "outputs": [
    {
     "data": {
      "text/plain": [
       "['../saved_models/r2_lin.joblib']"
      ]
     },
     "execution_count": 309,
     "metadata": {},
     "output_type": "execute_result"
    }
   ],
   "source": [
    "# Combine all R_2 scores from OLS\n",
    "r2_lin = pd.DataFrame([r2_up, r2_p, r2_up_r, r2_p_r],\n",
    "             columns=['Train', 'Test'],\n",
    "             index=['OLS, unpooled, no reg.',\n",
    "                    'OLS, pooled, no reg.',\n",
    "                    'linear regression, unpooled, elastic net reg.',\n",
    "                    'linear regression, pooled, elastic net reg.']\n",
    ")\n",
    "joblib.dump(r2_lin, '../saved_models/r2_lin.joblib')"
   ]
  },
  {
   "cell_type": "code",
   "execution_count": 1,
   "metadata": {},
   "outputs": [
    {
     "data": {
      "text/plain": [
       "0"
      ]
     },
     "execution_count": 1,
     "metadata": {},
     "output_type": "execute_result"
    }
   ],
   "source": [
    "import os\n",
    "os.system('jupyter nbconvert --to html 2_modeling_linear.ipynb')"
   ]
  },
  {
   "cell_type": "code",
   "execution_count": 2,
   "metadata": {},
   "outputs": [
    {
     "data": {
      "text/plain": [
       "'C:\\\\Users\\\\t\\\\Desktop\\\\projects\\\\hotels\\\\FINAL'"
      ]
     },
     "execution_count": 2,
     "metadata": {},
     "output_type": "execute_result"
    }
   ],
   "source": [
    "os.getcwd()"
   ]
  }
 ],
 "metadata": {
  "kernelspec": {
   "display_name": "Python 3",
   "language": "python",
   "name": "python3"
  },
  "language_info": {
   "codemirror_mode": {
    "name": "ipython",
    "version": 3
   },
   "file_extension": ".py",
   "mimetype": "text/x-python",
   "name": "python",
   "nbconvert_exporter": "python",
   "pygments_lexer": "ipython3",
   "version": "3.6.7"
  },
  "toc": {
   "base_numbering": 1,
   "nav_menu": {},
   "number_sections": true,
   "sideBar": true,
   "skip_h1_title": true,
   "title_cell": "Table of Contents",
   "title_sidebar": "Contents",
   "toc_cell": true,
   "toc_position": {
    "height": "calc(100% - 180px)",
    "left": "10px",
    "top": "150px",
    "width": "253.764px"
   },
   "toc_section_display": true,
   "toc_window_display": true
  }
 },
 "nbformat": 4,
 "nbformat_minor": 2
}
