{
 "cells": [
  {
   "cell_type": "markdown",
   "metadata": {
    "toc": true
   },
   "source": [
    "<h1>Table of Contents<span class=\"tocSkip\"></span></h1>\n",
    "<div class=\"toc\"><ul class=\"toc-item\"><li><span><a href=\"#Preprocessing\" data-toc-modified-id=\"Preprocessing-1\"><span class=\"toc-item-num\">1&nbsp;&nbsp;</span>Preprocessing</a></span><ul class=\"toc-item\"><li><span><a href=\"#Splitting-the-data\" data-toc-modified-id=\"Splitting-the-data-1.1\"><span class=\"toc-item-num\">1.1&nbsp;&nbsp;</span>Splitting the data</a></span></li><li><span><a href=\"#Missing-values\" data-toc-modified-id=\"Missing-values-1.2\"><span class=\"toc-item-num\">1.2&nbsp;&nbsp;</span>Missing values</a></span></li><li><span><a href=\"#One-hot-encoding\" data-toc-modified-id=\"One-hot-encoding-1.3\"><span class=\"toc-item-num\">1.3&nbsp;&nbsp;</span>One-hot encoding</a></span></li><li><span><a href=\"#Feature-scaling\" data-toc-modified-id=\"Feature-scaling-1.4\"><span class=\"toc-item-num\">1.4&nbsp;&nbsp;</span>Feature scaling</a></span></li><li><span><a href=\"#Final-steps\" data-toc-modified-id=\"Final-steps-1.5\"><span class=\"toc-item-num\">1.5&nbsp;&nbsp;</span>Final steps</a></span></li></ul></li><li><span><a href=\"#Predictive-modeling\" data-toc-modified-id=\"Predictive-modeling-2\"><span class=\"toc-item-num\">2&nbsp;&nbsp;</span>Predictive modeling</a></span><ul class=\"toc-item\"><li><span><a href=\"#Goal\" data-toc-modified-id=\"Goal-2.1\"><span class=\"toc-item-num\">2.1&nbsp;&nbsp;</span>Goal</a></span></li><li><span><a href=\"#Learning-algorithm\" data-toc-modified-id=\"Learning-algorithm-2.2\"><span class=\"toc-item-num\">2.2&nbsp;&nbsp;</span>Learning algorithm</a></span></li><li><span><a href=\"#Hyperparameter-Tuning\" data-toc-modified-id=\"Hyperparameter-Tuning-2.3\"><span class=\"toc-item-num\">2.3&nbsp;&nbsp;</span>Hyperparameter Tuning</a></span></li><li><span><a href=\"#Feature-Importance\" data-toc-modified-id=\"Feature-Importance-2.4\"><span class=\"toc-item-num\">2.4&nbsp;&nbsp;</span>Feature Importance</a></span></li><li><span><a href=\"#Interpreting-the-effect-of-age\" data-toc-modified-id=\"Interpreting-the-effect-of-age-2.5\"><span class=\"toc-item-num\">2.5&nbsp;&nbsp;</span>Interpreting the effect of age</a></span></li></ul></li></ul></div>"
   ]
  },
  {
   "cell_type": "markdown",
   "metadata": {},
   "source": [
    "In this notebook, we will train a state-of-the-art machine learning model using XGBoost.\n",
    "\n",
    "Let's start by loading the required libraries and the cleaned data."
   ]
  },
  {
   "cell_type": "code",
   "execution_count": 2,
   "metadata": {},
   "outputs": [
    {
     "name": "stderr",
     "output_type": "stream",
     "text": [
      "Using TensorFlow backend.\n"
     ]
    },
    {
     "name": "stdout",
     "output_type": "stream",
     "text": [
      "The line_profiler extension is already loaded. To reload it, use:\n",
      "  %reload_ext line_profiler\n"
     ]
    }
   ],
   "source": [
    "# Importing libraries\n",
    "import pdb \n",
    "import glob\n",
    "import copy\n",
    "import math\n",
    "import pickle\n",
    "import csv\n",
    "import eli5\n",
    "\n",
    "import numpy as np\n",
    "import pandas as pd\n",
    "import scipy as sp\n",
    "\n",
    "import matplotlib as mpl\n",
    "import matplotlib.pyplot as plt\n",
    "import matplotlib.cm as cm\n",
    "import seaborn as sns\n",
    " \n",
    "from sklearn.preprocessing import OneHotEncoder\n",
    "from sklearn.metrics import mean_squared_error, r2_score\n",
    "from sklearn.model_selection import train_test_split, \\\n",
    "    StratifiedShuffleSplit, cross_val_score, KFold\n",
    "\n",
    "from sklearn.externals import joblib\n",
    "from sklearn.utils import resample\n",
    "\n",
    "from hyperopt import fmin, tpe, hp, STATUS_OK, Trials, space_eval, pyll\n",
    "import xgboost as xgb\n",
    "from xgboost.sklearn import XGBRegressor\n",
    "   \n",
    "# Set up pandas table display\n",
    "pd.set_option('display.width', 120)\n",
    "pd.set_option('display.max_columns', 100)\n",
    "pd.set_option('display.notebook_repr_html', True)\n",
    "\n",
    "# Set plotting options\n",
    "sns.set() # Use seaborn defaults for plotting\n",
    "%matplotlib inline \n",
    "\n",
    "# Load line profiler\n",
    "%load_ext line_profiler\n",
    "\n",
    "# Adjust number of CPU cores to use\n",
    "N_JOBS=3"
   ]
  },
  {
   "cell_type": "code",
   "execution_count": 4,
   "metadata": {},
   "outputs": [],
   "source": [
    "# Load data from previous notebook\n",
    "all_data = pd.read_csv('../data_raw/all_data.csv')"
   ]
  },
  {
   "cell_type": "markdown",
   "metadata": {},
   "source": [
    "## Preprocessing"
   ]
  },
  {
   "cell_type": "markdown",
   "metadata": {},
   "source": [
    "Let's first take another look at the data to make sure everything is alright."
   ]
  },
  {
   "cell_type": "code",
   "execution_count": 5,
   "metadata": {},
   "outputs": [
    {
     "data": {
      "text/html": [
       "<div>\n",
       "<style scoped>\n",
       "    .dataframe tbody tr th:only-of-type {\n",
       "        vertical-align: middle;\n",
       "    }\n",
       "\n",
       "    .dataframe tbody tr th {\n",
       "        vertical-align: top;\n",
       "    }\n",
       "\n",
       "    .dataframe thead th {\n",
       "        text-align: right;\n",
       "    }\n",
       "</style>\n",
       "<table border=\"1\" class=\"dataframe\">\n",
       "  <thead>\n",
       "    <tr style=\"text-align: right;\">\n",
       "      <th></th>\n",
       "      <th>Unnamed: 0</th>\n",
       "      <th>age</th>\n",
       "      <th>allsuites</th>\n",
       "      <th>boutique</th>\n",
       "      <th>casino</th>\n",
       "      <th>cbd</th>\n",
       "      <th>category</th>\n",
       "      <th>conference</th>\n",
       "      <th>convention</th>\n",
       "      <th>floors</th>\n",
       "      <th>golf</th>\n",
       "      <th>indoorcorridors</th>\n",
       "      <th>landsf</th>\n",
       "      <th>largestmeetingspace</th>\n",
       "      <th>location</th>\n",
       "      <th>msa</th>\n",
       "      <th>multiproperty</th>\n",
       "      <th>new</th>\n",
       "      <th>operation</th>\n",
       "      <th>portfolio</th>\n",
       "      <th>quarter</th>\n",
       "      <th>resort</th>\n",
       "      <th>restaurant</th>\n",
       "      <th>rooms</th>\n",
       "      <th>saleaffiliation</th>\n",
       "      <th>saleprice</th>\n",
       "      <th>sizesf</th>\n",
       "      <th>ski</th>\n",
       "      <th>spa</th>\n",
       "      <th>id</th>\n",
       "      <th>tract</th>\n",
       "      <th>year</th>\n",
       "      <th>log1_landsf</th>\n",
       "      <th>log1_age</th>\n",
       "      <th>log1_largestmeetingspace</th>\n",
       "      <th>log_saleprice</th>\n",
       "      <th>log_sizesf</th>\n",
       "      <th>log_rooms</th>\n",
       "      <th>log_floors</th>\n",
       "      <th>year_2</th>\n",
       "      <th>year_3</th>\n",
       "      <th>age_2</th>\n",
       "      <th>age_3</th>\n",
       "      <th>floors_2</th>\n",
       "      <th>land</th>\n",
       "      <th>selfrun</th>\n",
       "    </tr>\n",
       "  </thead>\n",
       "  <tbody>\n",
       "    <tr>\n",
       "      <th>0</th>\n",
       "      <td>0</td>\n",
       "      <td>48.0</td>\n",
       "      <td>0.0</td>\n",
       "      <td>0.0</td>\n",
       "      <td>0.0</td>\n",
       "      <td>0.0</td>\n",
       "      <td>Economy Class</td>\n",
       "      <td>0.0</td>\n",
       "      <td>0.0</td>\n",
       "      <td>2.0</td>\n",
       "      <td>0.0</td>\n",
       "      <td>0.0</td>\n",
       "      <td>130301.0</td>\n",
       "      <td>2000.0</td>\n",
       "      <td>Small Metro/Town</td>\n",
       "      <td>Dothan, AL</td>\n",
       "      <td>0</td>\n",
       "      <td>0</td>\n",
       "      <td>Independent</td>\n",
       "      <td>0</td>\n",
       "      <td>2</td>\n",
       "      <td>0.0</td>\n",
       "      <td>1.0</td>\n",
       "      <td>102.0</td>\n",
       "      <td>Independent</td>\n",
       "      <td>1000000.0</td>\n",
       "      <td>42446.0</td>\n",
       "      <td>0.0</td>\n",
       "      <td>0.0</td>\n",
       "      <td>10</td>\n",
       "      <td>Dothan/Enterprise, AL</td>\n",
       "      <td>2009</td>\n",
       "      <td>11.777610</td>\n",
       "      <td>3.891820</td>\n",
       "      <td>7.601402</td>\n",
       "      <td>13.815511</td>\n",
       "      <td>10.655988</td>\n",
       "      <td>4.624973</td>\n",
       "      <td>0.693147</td>\n",
       "      <td>4036081</td>\n",
       "      <td>8108486729</td>\n",
       "      <td>2304.0</td>\n",
       "      <td>110592.0</td>\n",
       "      <td>4.0</td>\n",
       "      <td>1</td>\n",
       "      <td>0</td>\n",
       "    </tr>\n",
       "    <tr>\n",
       "      <th>1</th>\n",
       "      <td>1</td>\n",
       "      <td>29.0</td>\n",
       "      <td>0.0</td>\n",
       "      <td>0.0</td>\n",
       "      <td>0.0</td>\n",
       "      <td>0.0</td>\n",
       "      <td>Economy Class</td>\n",
       "      <td>0.0</td>\n",
       "      <td>0.0</td>\n",
       "      <td>3.0</td>\n",
       "      <td>0.0</td>\n",
       "      <td>1.0</td>\n",
       "      <td>361548.0</td>\n",
       "      <td>3000.0</td>\n",
       "      <td>Small Metro/Town</td>\n",
       "      <td>Florence-Muscle Shoals, AL</td>\n",
       "      <td>0</td>\n",
       "      <td>0</td>\n",
       "      <td>Independent</td>\n",
       "      <td>0</td>\n",
       "      <td>2</td>\n",
       "      <td>0.0</td>\n",
       "      <td>1.0</td>\n",
       "      <td>202.0</td>\n",
       "      <td>Independent</td>\n",
       "      <td>1000000.0</td>\n",
       "      <td>151421.0</td>\n",
       "      <td>0.0</td>\n",
       "      <td>0.0</td>\n",
       "      <td>31</td>\n",
       "      <td>Alabama North Area</td>\n",
       "      <td>2010</td>\n",
       "      <td>12.798153</td>\n",
       "      <td>3.401197</td>\n",
       "      <td>8.006701</td>\n",
       "      <td>13.815511</td>\n",
       "      <td>11.927819</td>\n",
       "      <td>5.308268</td>\n",
       "      <td>1.098612</td>\n",
       "      <td>4040100</td>\n",
       "      <td>8120601000</td>\n",
       "      <td>841.0</td>\n",
       "      <td>24389.0</td>\n",
       "      <td>9.0</td>\n",
       "      <td>1</td>\n",
       "      <td>0</td>\n",
       "    </tr>\n",
       "    <tr>\n",
       "      <th>2</th>\n",
       "      <td>2</td>\n",
       "      <td>26.0</td>\n",
       "      <td>0.0</td>\n",
       "      <td>0.0</td>\n",
       "      <td>0.0</td>\n",
       "      <td>0.0</td>\n",
       "      <td>Upscale Class</td>\n",
       "      <td>0.0</td>\n",
       "      <td>0.0</td>\n",
       "      <td>4.0</td>\n",
       "      <td>0.0</td>\n",
       "      <td>1.0</td>\n",
       "      <td>357627.0</td>\n",
       "      <td>5400.0</td>\n",
       "      <td>Suburban</td>\n",
       "      <td>Phoenix-Mesa-Scottsdale, AZ</td>\n",
       "      <td>0</td>\n",
       "      <td>0</td>\n",
       "      <td>Franchise</td>\n",
       "      <td>0</td>\n",
       "      <td>4</td>\n",
       "      <td>0.0</td>\n",
       "      <td>1.0</td>\n",
       "      <td>248.0</td>\n",
       "      <td>Crowne Plaza</td>\n",
       "      <td>24000000.0</td>\n",
       "      <td>142978.0</td>\n",
       "      <td>0.0</td>\n",
       "      <td>0.0</td>\n",
       "      <td>39</td>\n",
       "      <td>Black Canyon Corridor, AZ</td>\n",
       "      <td>2007</td>\n",
       "      <td>12.787249</td>\n",
       "      <td>3.295837</td>\n",
       "      <td>8.594339</td>\n",
       "      <td>16.993564</td>\n",
       "      <td>11.870446</td>\n",
       "      <td>5.513429</td>\n",
       "      <td>1.386294</td>\n",
       "      <td>4028049</td>\n",
       "      <td>8084294343</td>\n",
       "      <td>676.0</td>\n",
       "      <td>17576.0</td>\n",
       "      <td>16.0</td>\n",
       "      <td>1</td>\n",
       "      <td>0</td>\n",
       "    </tr>\n",
       "  </tbody>\n",
       "</table>\n",
       "</div>"
      ],
      "text/plain": [
       "   Unnamed: 0   age  allsuites  boutique  casino  cbd       category  conference  convention  floors  golf  \\\n",
       "0           0  48.0        0.0       0.0     0.0  0.0  Economy Class         0.0         0.0     2.0   0.0   \n",
       "1           1  29.0        0.0       0.0     0.0  0.0  Economy Class         0.0         0.0     3.0   0.0   \n",
       "2           2  26.0        0.0       0.0     0.0  0.0  Upscale Class         0.0         0.0     4.0   0.0   \n",
       "\n",
       "   indoorcorridors    landsf  largestmeetingspace          location                          msa  multiproperty  new  \\\n",
       "0              0.0  130301.0               2000.0  Small Metro/Town                   Dothan, AL              0    0   \n",
       "1              1.0  361548.0               3000.0  Small Metro/Town   Florence-Muscle Shoals, AL              0    0   \n",
       "2              1.0  357627.0               5400.0          Suburban  Phoenix-Mesa-Scottsdale, AZ              0    0   \n",
       "\n",
       "     operation  portfolio  quarter  resort  restaurant  rooms saleaffiliation   saleprice    sizesf  ski  spa  id  \\\n",
       "0  Independent          0        2     0.0         1.0  102.0     Independent   1000000.0   42446.0  0.0  0.0  10   \n",
       "1  Independent          0        2     0.0         1.0  202.0     Independent   1000000.0  151421.0  0.0  0.0  31   \n",
       "2    Franchise          0        4     0.0         1.0  248.0    Crowne Plaza  24000000.0  142978.0  0.0  0.0  39   \n",
       "\n",
       "                       tract  year  log1_landsf  log1_age  log1_largestmeetingspace  log_saleprice  log_sizesf  \\\n",
       "0      Dothan/Enterprise, AL  2009    11.777610  3.891820                  7.601402      13.815511   10.655988   \n",
       "1         Alabama North Area  2010    12.798153  3.401197                  8.006701      13.815511   11.927819   \n",
       "2  Black Canyon Corridor, AZ  2007    12.787249  3.295837                  8.594339      16.993564   11.870446   \n",
       "\n",
       "   log_rooms  log_floors   year_2      year_3   age_2     age_3  floors_2  land  selfrun  \n",
       "0   4.624973    0.693147  4036081  8108486729  2304.0  110592.0       4.0     1        0  \n",
       "1   5.308268    1.098612  4040100  8120601000   841.0   24389.0       9.0     1        0  \n",
       "2   5.513429    1.386294  4028049  8084294343   676.0   17576.0      16.0     1        0  "
      ]
     },
     "execution_count": 5,
     "metadata": {},
     "output_type": "execute_result"
    }
   ],
   "source": [
    "# Inspect data\n",
    "all_data.head(3)"
   ]
  },
  {
   "cell_type": "markdown",
   "metadata": {},
   "source": [
    "This shows that we need to drop the first column, which probably was a (meaningless) index that mistakenly was made a column when importing the data. Also, I will drop the binary variable \"resort\", since resort is also a category of the variable \"location\"."
   ]
  },
  {
   "cell_type": "code",
   "execution_count": 6,
   "metadata": {},
   "outputs": [],
   "source": [
    "all_data = all_data.drop(['Unnamed: 0', 'resort', 'land'], axis=1)"
   ]
  },
  {
   "cell_type": "markdown",
   "metadata": {},
   "source": [
    "### Splitting the data\n",
    "Let's now start with the actual preprocessing. As mentioned in the introduction and problem statement, an important goal of this project is to show that practitioners influenced predominantly by applied statistics should adopt common practices from machine learning to validate models. (While these approaches may have originated in statistics, the point is that they have only become common practice in machine learning.)\n",
    "\n",
    "The first such technique is the idea of withholding data (called a test set) when training the model, and then using these withheld data to assess performance. There are two main approaches of how to divide the data into training and test set: We can either split the data randomly, or we can choose a point in time and use all the data originating from an earlier point in time as the training set, and use the later data as the test set.  The former approach works best for independent data, and the latter works best for time-series data.\n",
    "\n",
    "Our data fall somewhere in between: They are not fully independent, because observations that are closer in time are likely to be more similar, even if we take into account all available predictors. (This is often described as having correlated errors.)  On the other hand, though, we are not dealing with a true time-series, because we are not following the same units over time. (An example of a pooled time-series would be repeated sales data.)  In this true time-series case, we can commonly observe such an extreme serial correlation of errors that this autoregressive process contains more useful information for prediction than the actual features do.\n",
    "\n",
    "I decided on a compromise: For the test set, I use the latest approximately 20% of the data, which cover the last 1.5 years of the sample. This should make sure we are not overly optimistic, as this makes our calculation of the test accuracy more similar to making predictions for use in practice, when we will probably not have a good estimate of the current year's average price yet. (When I calculate the predictions, I simply treat them as if they were from the last year from which we had data, which should give a better estimate than leaving out the information for year completely, because presumably this year's price will be more similar to last year's prize than to the average price of the last  25 years.)\n",
    "\n",
    "A disadvantage of this strategy is that the newest portion of the data may not be representative of all years, for example because it is drawn only from a particular point in the business cycle.  However, this is likely not a severe problem for our case, because the business cycle presumably mainly influences the level of the price (captured, in the case of a linear regression model, by the intercept) while the price determinants should stay pretty stable otherwise. To be on the safe side, I do split the data randomly when creating a validation set from the training set when performing cross-validation.  The reason that I pick a different strategy here is that we are not interested in the absolute level of the validation error here, only the relative performance of the different hyperparameters.  As a result, it's not a problem that random splitting causes an optimistic bias, because this should affect all hyperparameters values equally.\n",
    "\n",
    "Let's now go ahead and see which cut-off we should choose in order to get a test set of about 20% (around 1500 observations). To do so, we group the data by year and count the number of observations per year.  Then we compute the cumulative sum, going backwards."
   ]
  },
  {
   "cell_type": "code",
   "execution_count": 7,
   "metadata": {
    "scrolled": true
   },
   "outputs": [
    {
     "data": {
      "text/html": [
       "<div>\n",
       "<style scoped>\n",
       "    .dataframe tbody tr th:only-of-type {\n",
       "        vertical-align: middle;\n",
       "    }\n",
       "\n",
       "    .dataframe tbody tr th {\n",
       "        vertical-align: top;\n",
       "    }\n",
       "\n",
       "    .dataframe thead th {\n",
       "        text-align: right;\n",
       "    }\n",
       "</style>\n",
       "<table border=\"1\" class=\"dataframe\">\n",
       "  <thead>\n",
       "    <tr style=\"text-align: right;\">\n",
       "      <th></th>\n",
       "      <th>Cumulative Sum (counting backwards)</th>\n",
       "    </tr>\n",
       "    <tr>\n",
       "      <th>year</th>\n",
       "      <th></th>\n",
       "    </tr>\n",
       "  </thead>\n",
       "  <tbody>\n",
       "    <tr>\n",
       "      <th>2017</th>\n",
       "      <td>601</td>\n",
       "    </tr>\n",
       "    <tr>\n",
       "      <th>2016</th>\n",
       "      <td>1917</td>\n",
       "    </tr>\n",
       "    <tr>\n",
       "      <th>2015</th>\n",
       "      <td>2751</td>\n",
       "    </tr>\n",
       "    <tr>\n",
       "      <th>2014</th>\n",
       "      <td>2756</td>\n",
       "    </tr>\n",
       "    <tr>\n",
       "      <th>2013</th>\n",
       "      <td>3497</td>\n",
       "    </tr>\n",
       "  </tbody>\n",
       "</table>\n",
       "</div>"
      ],
      "text/plain": [
       "      Cumulative Sum (counting backwards)\n",
       "year                                     \n",
       "2017                                  601\n",
       "2016                                 1917\n",
       "2015                                 2751\n",
       "2014                                 2756\n",
       "2013                                 3497"
      ]
     },
     "execution_count": 7,
     "metadata": {},
     "output_type": "execute_result"
    }
   ],
   "source": [
    "#  Train-test split\n",
    "# =================\n",
    "\n",
    "# Count number of observations by year\n",
    "year_counts_cum = all_data.loc[:, [\"year\", \"id\"]] \\\n",
    "    .groupby(\"year\") \\\n",
    "    .count() \\\n",
    "    .sort_index(ascending=False) \\\n",
    "    .cumsum() \n",
    "\n",
    "# Properly name counts\n",
    "year_counts_cum = year_counts_cum. \\\n",
    "    rename(columns={'id': 'Cumulative Sum (counting backwards)'})\n",
    "\n",
    "# Print the last 5 years\n",
    "year_counts_cum.head()"
   ]
  },
  {
   "cell_type": "markdown",
   "metadata": {},
   "source": [
    "This shows that, if the data is relatively evenly distributed and 2016, we should cut in the middle of that year.  Thus, let's put all observations that fall in the third quarter 2016 or later into the training set."
   ]
  },
  {
   "cell_type": "code",
   "execution_count": 8,
   "metadata": {},
   "outputs": [
    {
     "name": "stdout",
     "output_type": "stream",
     "text": [
      "Number of observations in test set: 1258\n"
     ]
    }
   ],
   "source": [
    "# Index for test set\n",
    "test_index = all_data.loc[\n",
    "    (all_data.year > 2016) \n",
    "    | ((all_data.year == 2016) & (all_data.quarter >= 3))] \\\n",
    "    .index\n",
    "# Index for training set \n",
    "train_index = all_data.index.difference(test_index)\n",
    "\n",
    "# Check length\n",
    "print(f'Number of observations in test set: {len(test_index)}')\n",
    "\n",
    "# Get test and train set\n",
    "data_test = all_data.loc[all_data.index.isin(test_index)]\n",
    "data_train = all_data.loc[all_data.index.isin(train_index)]"
   ]
  },
  {
   "cell_type": "markdown",
   "metadata": {},
   "source": [
    "This gives us the test set of about 1300 observations.  Let's check the results."
   ]
  },
  {
   "cell_type": "code",
   "execution_count": 9,
   "metadata": {},
   "outputs": [],
   "source": [
    "# Check results\n",
    "assert data_train.year.max() == 2016\n",
    "assert data_test.year.min() == 2016"
   ]
  },
  {
   "cell_type": "markdown",
   "metadata": {},
   "source": [
    "Since linear and tree-based models require different preprocessing, we will save another copy to use in another notebook to build a linear model for comparison. "
   ]
  },
  {
   "cell_type": "code",
   "execution_count": 10,
   "metadata": {},
   "outputs": [
    {
     "data": {
      "text/plain": [
       "['../data/data_test_lin']"
      ]
     },
     "execution_count": 10,
     "metadata": {},
     "output_type": "execute_result"
    }
   ],
   "source": [
    "# Save data to use with linear model\n",
    "joblib.dump(data_train, '../data/data_train_lin')\n",
    "joblib.dump(data_test, '../data/data_test_lin')"
   ]
  },
  {
   "cell_type": "markdown",
   "metadata": {},
   "source": [
    "We also export the data to csv, so we can import them into R to try building a Bayesian hierarchical model. "
   ]
  },
  {
   "cell_type": "code",
   "execution_count": 11,
   "metadata": {},
   "outputs": [],
   "source": [
    "#Export file as csv for R\n",
    "data_train.to_csv('../data_raw/data_train_R.csv',\n",
    "                  na_rep = \"NA\", index = False) \n",
    "data_test.to_csv('../data_raw/data_test_R.csv', \n",
    "                 na_rep = \"NA\", index = False) "
   ]
  },
  {
   "cell_type": "markdown",
   "metadata": {},
   "source": [
    "After saving the data to use with linear models, we can delete polynomial terms, since we will not use these for XGBoost."
   ]
  },
  {
   "cell_type": "code",
   "execution_count": 12,
   "metadata": {},
   "outputs": [],
   "source": [
    "# Drop polynomial columns\n",
    "col2drop = ['year_2','year_3', 'age_2', 'age_3', 'floors_2']\n",
    "data_train = data_train.drop(col2drop, 1)\n",
    "data_test = data_test.drop(col2drop, 1)"
   ]
  },
  {
   "cell_type": "code",
   "execution_count": 13,
   "metadata": {},
   "outputs": [
    {
     "name": "stdout",
     "output_type": "stream",
     "text": [
      "<class 'pandas.core.frame.DataFrame'>\n",
      "Int64Index: 6292 entries, 0 to 7544\n",
      "Data columns (total 38 columns):\n",
      "age                         6292 non-null float64\n",
      "allsuites                   6292 non-null float64\n",
      "boutique                    6292 non-null float64\n",
      "casino                      6292 non-null float64\n",
      "cbd                         6292 non-null float64\n",
      "category                    6292 non-null object\n",
      "conference                  6292 non-null float64\n",
      "convention                  6292 non-null float64\n",
      "floors                      6292 non-null float64\n",
      "golf                        6292 non-null float64\n",
      "indoorcorridors             6292 non-null float64\n",
      "landsf                      6292 non-null float64\n",
      "largestmeetingspace         6292 non-null float64\n",
      "location                    6292 non-null object\n",
      "msa                         6292 non-null object\n",
      "multiproperty               6292 non-null int64\n",
      "new                         6292 non-null int64\n",
      "operation                   6292 non-null object\n",
      "portfolio                   6292 non-null int64\n",
      "quarter                     6292 non-null int64\n",
      "restaurant                  6292 non-null float64\n",
      "rooms                       6292 non-null float64\n",
      "saleaffiliation             6292 non-null object\n",
      "saleprice                   6292 non-null float64\n",
      "sizesf                      6292 non-null float64\n",
      "ski                         6292 non-null float64\n",
      "spa                         6292 non-null float64\n",
      "id                          6292 non-null int64\n",
      "tract                       6292 non-null object\n",
      "year                        6292 non-null int64\n",
      "log1_landsf                 6292 non-null float64\n",
      "log1_age                    6292 non-null float64\n",
      "log1_largestmeetingspace    6292 non-null float64\n",
      "log_saleprice               6292 non-null float64\n",
      "log_sizesf                  6292 non-null float64\n",
      "log_rooms                   6292 non-null float64\n",
      "log_floors                  6292 non-null float64\n",
      "selfrun                     6292 non-null int64\n",
      "dtypes: float64(25), int64(7), object(6)\n",
      "memory usage: 1.9+ MB\n"
     ]
    }
   ],
   "source": [
    "data_train.info()"
   ]
  },
  {
   "cell_type": "markdown",
   "metadata": {},
   "source": [
    "### Missing values\n",
    "Let's now talk about missing values.  I decided to drop all observations with missing values rather than in imputing them. (This was already done in the earlier Python files that cleaned the data.) The reason for this is connected to the fact that, as described earlier, I only had access to the original data for the newer  observations.  The older observations already came in merged form, and unfortunately all observations with any missing values had already been dropped. Likewise, many columns that were seen as less important had already been dropped. \n",
    "\n",
    "This is because the data were previously used for regression modeling.  As a result, the variables were reduced to a small number deemed most relevant by domain experts. To enable easier modeling, any rows with missing observations were dropped. (This is because the regression models were intended for statistical inference, which requires more complicated imputation than predictive modeling, which is the goal here.  In particular, in order to get correct standard errors, multiple imputation would need to be performed.)\n",
    "\n",
    "I decided to perform the same  processing on the newer data. This leaves us with 7,500 rather than close to 11,000 observations, and 32 rather than around 100 usable features.  Note that since gradient boosting does not have any trouble dealing with missing values and is able to use even a high number of features, this decision favors ordinary linear regression.  Furthermore, the small size of the data set does not allow gradient boosting to reach anywhere near its full potential.   \n",
    "This is intentional, because it creates what is sometimes called a **\"least likely case\"**: If it can be shown that gradient boosting is preferable to linear regression even in such a case that is stacked against it, it makes a stronger case in favor of it if it still prevails.  If we preprocessed the data specifically for gradient boosting (kept all possible features) and as we increase the number of observations (don't drop  observations with missing values, and collected more data over time), the superiority of gradient boosting will be more pronounced.\n"
   ]
  },
  {
   "cell_type": "markdown",
   "metadata": {},
   "source": [
    "### One-hot encoding\n",
    "Next, let's talk about the encoding of categorical and ordinal variables.  I took different steps here for different models: For gradient boosting, I performed one-hot encoding for actual categorical variables, but mapped categorical variables that were in fact ordinal to integers corresponding to the correct order. This works because tree-based models do not distinguish between ordinal and numeric variables.  By contrast, for linear regression, I will perform one-hot encoding for both categorical and ordinal variables.  Leaving ordinal variables as numeric would otherwise amount to assuming that the differences between categories are equal, which is usually not the case.\n",
    "\n",
    "We start by finding all variables encoded as categorical."
   ]
  },
  {
   "cell_type": "code",
   "execution_count": 15,
   "metadata": {},
   "outputs": [
    {
     "data": {
      "text/plain": [
       "Index(['category', 'location', 'msa', 'operation', 'saleaffiliation', 'tract'], dtype='object')"
      ]
     },
     "execution_count": 15,
     "metadata": {},
     "output_type": "execute_result"
    }
   ],
   "source": [
    "# Get non-numeric columns\n",
    "data_train.select_dtypes(\n",
    "    include=['object']\n",
    "    ) \\\n",
    "    .columns"
   ]
  },
  {
   "cell_type": "code",
   "execution_count": 16,
   "metadata": {},
   "outputs": [
    {
     "data": {
      "text/plain": [
       "Index(['category', 'location', 'msa', 'operation', 'saleaffiliation', 'tract'], dtype='object')"
      ]
     },
     "execution_count": 16,
     "metadata": {},
     "output_type": "execute_result"
    }
   ],
   "source": [
    "# Get non-numeric columns\n",
    "data_train.select_dtypes(\n",
    "    include=['object']\n",
    "    ) \\\n",
    "    .columns"
   ]
  },
  {
   "cell_type": "markdown",
   "metadata": {},
   "source": [
    "Many of the variables in the data sets are already binary variables indicating whether certain features are present.  There are still a number of categorical variables left, though, that we need to transform.  \n",
    "We will start with the hotel category, which ranges from economy class to luxury class. Since this implies a  ranking, it is not truly categorical but ordinal. Thus, let's map it to consecutive integers. (Remember that we already saved another version of the data that we will use for linear models, so we can perform different preprocessing steps there.)"
   ]
  },
  {
   "cell_type": "code",
   "execution_count": 17,
   "metadata": {},
   "outputs": [],
   "source": [
    "## Make hotel category ordinal\n",
    "# Define mapping\n",
    "category_map = {\n",
    "    'Economy Class': 1,\n",
    "    'Midscale Class': 2,\n",
    "    'Upper Midscale Class': 3,\n",
    "    'Upscale Class': 4,\n",
    "    'Upper Upscale Class': 5,\n",
    "    'Luxury Class': 6\n",
    "}\n",
    "# Apply mapping to training and test set\n",
    "data_train.loc[:, 'category'] = data_train.category \\\n",
    "                                 .map(category_map)\n",
    "data_test.loc[:, 'category'] = data_test.category \\\n",
    "                                 .map(category_map)"
   ]
  },
  {
   "cell_type": "markdown",
   "metadata": {},
   "source": [
    "Now we can perform one-hot encoding of the remaining categorical variables."
   ]
  },
  {
   "cell_type": "code",
   "execution_count": 18,
   "metadata": {},
   "outputs": [],
   "source": [
    "# Categorical variables\n",
    "cats = ['msa', 'tract', 'location', \n",
    "        'saleaffiliation', 'operation']\n",
    "# Perform one-hot encoding\n",
    "ohe = OneHotEncoder(handle_unknown='ignore',\n",
    "                    sparse=False)\n",
    "X_train_cats = ohe.fit_transform(\n",
    "    data_train.loc[:, cats])        \n",
    "X_test_cats = ohe.transform(\n",
    "    data_test.loc[:, cats])"
   ]
  },
  {
   "cell_type": "markdown",
   "metadata": {},
   "source": [
    "Let's merge those one-hot encoding categorical variables with the rest of the features to create the data to pass to the model. In this process, I get rid of two variables that are not relevant, the ID as well as the variable \"new\", which was used during the data cleaning process to distinguish the data stemming from the older and newer wave."
   ]
  },
  {
   "cell_type": "code",
   "execution_count": 19,
   "metadata": {
    "scrolled": true
   },
   "outputs": [
    {
     "name": "stdout",
     "output_type": "stream",
     "text": [
      "Variables excluded:  ['log1_landsf', 'log1_age', 'log1_largestmeetingspace', 'log_saleprice', 'log_sizesf', 'log_rooms', 'log_floors', 'saleprice', 'id', 'new']\n"
     ]
    }
   ],
   "source": [
    "# List of variables to exclude from X\n",
    "v2exclude = list(\n",
    "    data_train.columns[\n",
    "    data_train.columns.str.startswith('log')])\n",
    "v2exclude.extend(\n",
    "    ['saleprice', 'id', 'new'])\n",
    "# Print to make sure no variables that accidentally \n",
    "# start with \"log\" are excluded\n",
    "print('Variables excluded: ', v2exclude)\n",
    "\n",
    "# Non-categorical columns for X\n",
    "X_train_rest = data_train.drop(cats + v2exclude,\n",
    "                               axis=1)\n",
    "X_test_rest = data_test.drop(cats + v2exclude,\n",
    "                             axis=1)\n",
    "# Merge categorical and non-categorical variables\n",
    "X_train = np.concatenate([X_train_rest, X_train_cats], \n",
    "                         axis=1)\n",
    "X_test = np.concatenate([X_test_rest, X_test_cats], \n",
    "                         axis=1)\n",
    "\n",
    "# Get feature names\n",
    "feature_names = list(X_train_rest.columns) \\\n",
    "    + list(ohe.get_feature_names())\n",
    "\n",
    "# Create target variables\n",
    "y_train = data_train.loc[:, 'log_saleprice']\n",
    "y_test = data_test.loc[:, 'log_saleprice']"
   ]
  },
  {
   "cell_type": "markdown",
   "metadata": {},
   "source": [
    "### Feature scaling\n",
    "Note that I did not perform any standardization, because it is not necessary for the models I use: As already mentioned, gradient boosting does not care about the distribution of the data, because it treats them as ordinal.  For linear regression, standardization can be useful to speed up convergence of gradient descent, but our data set is so small that this is not an issue.  Thus, I left variables at the original scale, which has the additional benefit of making the coefficients of linear regression more easily interpretable.\n",
    "\n",
    "### Final steps\n",
    "We can now save the final form of the preprocessed data, so we don't have to repeat those steps the next time we load the notebook."
   ]
  },
  {
   "cell_type": "code",
   "execution_count": 20,
   "metadata": {},
   "outputs": [
    {
     "data": {
      "text/plain": [
       "['../data/feature_names.joblib']"
      ]
     },
     "execution_count": 20,
     "metadata": {},
     "output_type": "execute_result"
    }
   ],
   "source": [
    "# Save preprocessed training and test sets\n",
    "filenames = ['X_train', 'X_test',\n",
    "             'y_train', 'y_test']\n",
    "files = [X_train, X_test, y_train, y_test]\n",
    "\n",
    "for file, filename in zip(files, filenames):\n",
    "    joblib.dump(file,\n",
    "                '../data/{}.joblib'.format(filename))\n",
    "# Delete temporary list to conserve memory\n",
    "del files\n",
    "\n",
    "# Also save feature names\n",
    "joblib.dump(feature_names, '../data/feature_names.joblib')"
   ]
  },
  {
   "cell_type": "markdown",
   "metadata": {},
   "source": [
    "Finally, we convert the data to XGBoost's native format. (This is necessary because we use XGBoost's native API rather than the Scikit-learn API, because this brings a number of performance advantages when training the model.)"
   ]
  },
  {
   "cell_type": "code",
   "execution_count": 12,
   "metadata": {},
   "outputs": [],
   "source": [
    "# Convert data to DMatrix \n",
    "data_xgb_train = xgb.DMatrix(data=X_train, label=y_train,\n",
    "                             feature_names=feature_names, nthread=-1)\n",
    "data_xgb_test = xgb.DMatrix(data=X_test, label=y_test,\n",
    "                            feature_names=feature_names)"
   ]
  },
  {
   "cell_type": "markdown",
   "metadata": {},
   "source": [
    "## Predictive modeling\n",
    "### Goal\n",
    "\n",
    "The main goal of this analysis is to show that models of hotel property prices should use machine learning techniques that are able to model more complex relationships between variables, rather than using the linear regression models that have been traditionally the main workhorse for statistical inference. \n",
    " A secondary goal of mine is to show that if linear regression models are used – e.g. as a first step or a point of comparison – it still pays to borrow two related techniques from machine learning, regularization and the practice of assessing the performance of the model by measuring performance on withheld data. \n",
    " \n",
    "While cross-validation may have originated in statistics, the most common way of assessing the trustworthiness of a model in applied statistics is based on verifying theoretical assumptions combined through model checking, e.g. analysis of the residuals.  By contrast, it is common practice in machine learning to instead verify the fit of a model through more direct means, namely by withholding part of the data and then assessing the model's performance on the withheld data.  This is usually preferable because it avoids relying on dubious assumptions about the distribution of the data.  Furthermore, in practice, model checking is often neglected, or the findings are not presented with the results.  Furthermore, the model checking that is done tends to be biased towards not rejecting wrong models. This is probably a major cause of the replication crisis in many scientific disciplines .  For a more in-depth discussion of these issues, see Leo Breiman's famous paper \"Statistical modeling: The two cultures,\" which is available at http://www2.math.uu.se/~thulin/mm/breiman.pdf.\n",
    "\n",
    "The second technique borrowed from machine learning that should be standard practice in applied statistics is regularization.  The purpose is to avoid overfitting our model to the data we train our model on.  This problem is usually dealt with in applied statistics by practices such as using the adjusted R_2 for model selection.  However, the adjustment of the R_2 for the lost degrees of freedom is not rooted in any principled way.  By contrast, fit statistics derived from information theory, such as AIC or BIC, are based on a theoretical framework that tries to adjust for the overfitting to the training set.  However, these are not only much less widely used than the adjusted R_2, but are also based on a lot of assumptions about the distribution of our data that are rarely completely satisfied in practice.  As a result, it is often hard to say how confident we can be in its prescriptions.\n",
    "\n",
    "One might think that for our sample size of over 7000, regularization might not be that important for a simple linear model.  However, remember that we had three categorical variables with several hundred different categories.  If we perform one-hot encoding on these, we end up with about 1000 predictors. Since two out of these three categorical variables refer to the location of the property (e.g., the Metropolitan Statistical Area ), we can expect that it would indeed be useful if we could include these variables.  The only good way to find out if it is worth losing so many degrees of freedom is to estimate the model on part of the data and then seeing which model performs better on the withheld data."
   ]
  },
  {
   "cell_type": "markdown",
   "metadata": {},
   "source": [
    "### Learning algorithm\n",
    "As already mentioned, I chose gradient boosting, since it is known to be the best performing machine learning algorithm on anything but huge data sets. The particular version I choose, XGBoost, is particularly fast and accurate.\n",
    "\n",
    "A good explanation of how gradient boosting (and XGBoost in particular) works can be found here:\n",
    "https://xgboost.readthedocs.io/en/latest/tutorials/model.html"
   ]
  },
  {
   "cell_type": "markdown",
   "metadata": {},
   "source": [
    "### Hyperparameter Tuning"
   ]
  },
  {
   "cell_type": "markdown",
   "metadata": {},
   "source": [
    "To tune the hyperparameters, I will rely on **Bayesian hyperparameters optimization** using **hyperopt**. The advantage of this approach is that it performs an *intelligent* search that gives better performance for a given computational budget: We start by specifying a prior distribution for the hyperparameters. This formalizes our beliefs about which hyperparameters make sense *before we have seen the data.* Like randomized search but unlike grid search, this gives us the chance to not only specify the minimum and maximum values between which to confine our search, but it also allows us to concentrate probability mass around the most likely values in the center (e.g., through a (log)normal distribution), so that more plausible values are tried more frequently than possible but unlikely values. \n",
    "\n",
    "By contrast to a randomized search, however, we learn from the results from previous iterations: We start with the prior distribution that we defined above, and update our confidence about where the optimal hyperparameters lie after each trial. The distribution after each update is called the posterior distribution (it is a conditional probability, given the prior as well as the evidence observed so far). If the last values we tried gave us a good result on the validation set, it is likely that we have been moving in the right direction (and vice versa), and we update the probability distribution accordingly. The rules about how to update our confidence about which hyperparameters are optimal are defined by Bayes's Rule. In the beginning, when we have gathered few actual data, our posterior distribution will mainly be determined by the prior distribution we started with. But as we gather more evidence by trying additional hyperparameter combinations, the prior distribution will be swamped by the evidence from these trials and will concentrate more and more probability mass around the values that worked well.\n",
    "\n",
    "Thus, for the first few iterations, the results will be similar to randomized search that draws hyperparameters from the same distributions that we use for our prior distributions. However, as we try more and more hyperparameters combinations, Bayesian optimization will increasingly concentrate our efforts on the subset of the search space that worked best previously. This is particularly important for models where we have many hyperparameters to tune (e.g., XGBoost). While randomized search is preferable to grid search, it still runs into the curse of dimensionality, because it becomes increasingly unlikely that a good combination of hyperparameters is selected randomly as the number of hyperparameters increases. Overall, thus, Bayesian optimization allows us to get a better accuracy for a given computational cost, or it allows us to attain a given accuracy at a (often much) lower computational cost.\n",
    "\n",
    "One problem I faced when implementing this search using hyperopt is that this package only offers a limited choice of prior distributions. In particular, while I wanted to use a lognormal distribution for many variables, I also wanted to set a strict upper and lower bounds.  For example, for SVMs I wanted to avoid excessively high values for C, because this can increase training time by an order of magnitude.  An even bigger problem was that there were no good options to sample parameters that need to be integers, and that functions that were supposed to sample integers rounded from a normal distribution failed  to perform this type conversion.  Thus, I added a custom function for each learner that adjusts (rounds or converts) the parameters sampled by hyperopt before they are passed to the model.\n",
    "\n",
    "For gradient boosting, the performance of a given set of hyperparameters will be evaluated using 10-fold cross-validation.  For the linear models, I will use 20 folds, because training is much faster here. The metric I optimize is mean-squared error, which is common practice for regression models. \n",
    "\n",
    "Since we have a lot of parameters to tune, we need a smart way of searching over the different parameters to avoids the combinatorial explosion that would result from a simultaneous grid search over all parameters. Doing so more efficiently was the initial motivation for me to explore Bayesian hyperparameter optimization for a previous project.\n",
    "\n",
    "In the following, I will follow the suggestions from https://www.analyticsvidhya.com/blog/2016/03/complete-guide-parameter-tuning-xgboost-with-codes-python/ for plausible ranges for the hyperparameters. For the exact parameters required to get sensible prior distributions, I reuse values from a previous project.\n",
    "\n",
    "However, since I will use Bayesian optimization rather than brute force, I improve on the strategy from the above block post by avoiding the lazy approach of repeatedly optimizing a subset of the parameters at a time. Instead, I will optimize all tree-specific parameters at once. I again follow the suggestion from the blog post of first using a relatively higher learning rate to speed up training. Subsequently, I will reestimate the model with the parameters identified in the previous step but using a smaller learning rate for another increase in accuracy. \n",
    "\n",
    "During both of these steps, I will use early stopping to determine the optimal number of trees. \n",
    "\n",
    "Let's start by specifying the prior distributions of the hyperparameters we want to optimize."
   ]
  },
  {
   "cell_type": "code",
   "execution_count": null,
   "metadata": {},
   "outputs": [],
   "source": [
    "# Set options\n",
    "MAX_EVALS = 150\n",
    "N_FOLDS = 10\n",
    "N_JOBS = 3\n",
    "\n",
    "small_number = 0.01 # To adjust lower bound for Gamma\n",
    "space = {\n",
    "    # Parameters that we are going to tune (Note that these may be modified\n",
    "    # in objective function to convert to integer or to set min or max.)\n",
    "    'objective':'reg:linear',\n",
    "    'metrics': 'rmse',\n",
    "    'eta':.3,  # Start with a higher learning rate for speed\n",
    "    'max_depth': hp.normal('max_depth', 6, 2),\n",
    "    'min_child_weight': hp.normal('min_child_weight', 4, 2), \n",
    "    'gamma': hp.loguniform('gamma', # small number will be subtracted later\n",
    "                            np.log(small_number), \n",
    "                            np.log(0.5 + small_number)),\n",
    "    'subsample': hp.normal('subsample', 0.75, 0.2), \n",
    "    'colsample_bytree':  hp.normal('colsample_bytree', 0.75, 0.2),\n",
    "    'reg_alpha': hp.loguniform('reg_alpha', -6, 4),\n",
    "    'num_boost_round': 10000,  # Max number of iterations \n",
    "    'nthread': N_JOBS\n",
    "}"
   ]
  },
  {
   "cell_type": "markdown",
   "metadata": {},
   "source": [
    "As mentioned above, XGBoost only gives limited flexibility of how to define these  distributions (In part because functions that were supposed to sample integers did not work properly).  Thus, I define a function that will adjust the sampled hyperparameters values to make sure they fall into the right range and have the right data type."
   ]
  },
  {
   "cell_type": "code",
   "execution_count": 8,
   "metadata": {},
   "outputs": [],
   "source": [
    "# Function to convert sampled parameters to integer or make positive, etc., \n",
    "# where necessary\n",
    "def adjust_params_xgb(params):\n",
    "    \"\"\" \n",
    "    Adjust parameters where hyperopt did not allow sampling from optimal \n",
    "    distribution.\n",
    "    \"\"\"\n",
    "\n",
    "    # Convert sampled parameters to integer, where  applicable\n",
    "    params['max_depth'] = round(params['max_depth'])\n",
    "    \n",
    "    # Make sure min_child_weight is positive\n",
    "    if params['min_child_weight'] <= 0:\n",
    "        params['min_child_weight'] = 0 # Set to lower bound\n",
    "   \n",
    "    # Subtract the small number from gamma to set 0 as lower bound\n",
    "    params['gamma'] = params['gamma'] - small_number\n",
    "\n",
    "    # Set upper or lower bunds for parameters, where applicable\n",
    "    if params['max_depth'] <= 2:\n",
    "        params['max_depth'] = 2\n",
    "    if params['subsample'] < 0.05:\n",
    "        params['subsample'] = 0.05\n",
    "    if params['subsample'] > 1:\n",
    "        params['subsample'] = 1\n",
    "    if params['colsample_bytree'] < 0.05: \n",
    "        params['colsample_bytree'] = 0.05\n",
    "    if params['colsample_bytree'] > 1:\n",
    "        params['colsample_bytree'] = 1\n",
    "    \n",
    "    # Return modified parameters\n",
    "    return params"
   ]
  },
  {
   "cell_type": "markdown",
   "metadata": {},
   "source": [
    "Now we are able to carry out the optimization."
   ]
  },
  {
   "cell_type": "code",
   "execution_count": null,
   "metadata": {},
   "outputs": [],
   "source": [
    "# CSV file to track progress\n",
    "progress_file_path = 'progress_xgb.csv'\n",
    "with open(progress_file_path, 'w') as file:\n",
    "    writer = csv.writer(file)\n",
    "    # Write header to the file\n",
    "    writer.writerow(['loss', 'params', 'n_trees'])\n",
    "    \n",
    "complete_results = {}\n",
    "counter = 0\n",
    "# Objective function to minimize\n",
    "def objective(params, progress_file_path=progress_file_path,\n",
    "              n_jobs=N_JOBS):\n",
    "    \"\"\"Objective function to minimize\"\"\"\n",
    "    \n",
    "    # Adjust parameters\n",
    "    params = adjust_params_xgb(params)\n",
    "\n",
    "    # Perform cross-validation to assess RMSE (w/ early stopping)\n",
    "    # Note: It is crucial that early_stopping_rounds are supplied as a\n",
    "    # direct argument rather than in the parameters dictionary! Not sure \n",
    "    # why.)\n",
    "    xgb_cv = xgb.cv(params, dtrain=data_xgb_train, \n",
    "                    num_boost_round=10000,  # Max number of iterations \n",
    "                    early_stopping_rounds=50,\n",
    "                    seed=1,\n",
    "                    nfold=N_FOLDS)\n",
    "\n",
    "    # Extract best performance\n",
    "    best_ntree = xgb_cv.loc[:, 'test-rmse-mean'].idxmin()\n",
    "    best_rmse = xgb_cv.loc[:, 'test-rmse-mean'].loc[best_ntree]\n",
    "    \n",
    "    global complete_results\n",
    "    global counter \n",
    "    complete_results[counter] = xgb_cv\n",
    "    counter += 1\n",
    "    \n",
    "    # Save results to csv file\n",
    "    with open(progress_file_path, 'a') as file:\n",
    "        writer = csv.writer(file)\n",
    "        writer.writerow([best_rmse, params, best_ntree])\n",
    "\n",
    "    # Return results\n",
    "    return {'loss': best_rmse, 'params': params, 'n_trees': best_ntree, 'status': STATUS_OK}\n",
    "\n",
    "# Minimize objective\n",
    "best = fmin(objective, space, algo=tpe.suggest,\n",
    "            max_evals=MAX_EVALS)\n",
    "\n",
    "# Get the values of the optimal parameters\n",
    "best_params = space_eval(space, best)\n",
    "\n",
    "# Save best parameters\n",
    "joblib.dump(best_params, 'saved_models/xgb_best_params.joblib')"
   ]
  },
  {
   "cell_type": "code",
   "execution_count": null,
   "metadata": {},
   "outputs": [],
   "source": []
  },
  {
   "cell_type": "markdown",
   "metadata": {},
   "source": [
    "Let's take a look how the performance changed over time during the hyperparameters optimization:"
   ]
  },
  {
   "cell_type": "code",
   "execution_count": 44,
   "metadata": {},
   "outputs": [
    {
     "data": {
      "image/png": "[encoded data removed]",
      "text/plain": [
       "<Figure size 432x288 with 1 Axes>"
      ]
     },
     "metadata": {
      "needs_background": "light"
     },
     "output_type": "display_data"
    }
   ],
   "source": [
    "# Load full results from progress file\n",
    "xgb_results = pd.read_csv('progress_xgb.csv')\n",
    "\n",
    "# Get validation score\n",
    "# Extract RMSLE for each iteration\n",
    "rmsle_xgb = xgb_results.loss\n",
    "\n",
    "# Plot RMSLE per iteration\n",
    "rmsle_xgb.plot()\n",
    "plt.title('Performance on test set (smaller is better)')\n",
    "plt.ylabel('RMSLE')\n",
    "plt.xlabel('Iteration');"
   ]
  },
  {
   "cell_type": "markdown",
   "metadata": {},
   "source": [
    "We see that we do not get any noticeable improvement after about 70 iterations. However, this is hard to predict beforehand, and I wanted to squeeze out every bit of accuracy since our data set is so small, so it Notice was still good to err on the side of caution.\n",
    "\n",
    "We should also check the number of trees at which the optimum was reached to make sure that it was before the maximum number of iterations. If this is not the case, we would have to either increase the maximum number of iterations (or set a higher learning rate)."
   ]
  },
  {
   "cell_type": "code",
   "execution_count": 45,
   "metadata": {
    "scrolled": true
   },
   "outputs": [
    {
     "data": {
      "image/png": "[encoded data removed]",
      "text/plain": [
       "<Figure size 432x288 with 1 Axes>"
      ]
     },
     "metadata": {
      "needs_background": "light"
     },
     "output_type": "display_data"
    }
   ],
   "source": [
    "# Extract optimal number of trees for each iteration\n",
    "n_trees = xgb_results.n_trees\n",
    "\n",
    "# Plot RMSLE per iteration\n",
    "n_trees.plot()\n",
    "plt.title('Optimum number of trees')\n",
    "plt.ylabel('Optimum number of trees')\n",
    "plt.xlabel('Iteration');"
   ]
  },
  {
   "cell_type": "markdown",
   "metadata": {},
   "source": [
    "This looks good. For all iterations, the optimum was reached before arriving at the maximum number of iterations, 10,000.\n",
    "\n",
    "Let's now assess the performance of the model on the test set.  To do so, we first re-estimate the model on the whole training set, using the optimal number of trees derived previously."
   ]
  },
  {
   "cell_type": "code",
   "execution_count": 46,
   "metadata": {},
   "outputs": [],
   "source": [
    "# Get the number of trees at optimum\n",
    "n_trees_optimum = int(  # Convert series of length 1 to integer \n",
    "    xgb_results.loc[xgb_results.loss == xgb_results.loss.min(), \n",
    "                    'n_trees']\n",
    ")"
   ]
  },
  {
   "cell_type": "code",
   "execution_count": null,
   "metadata": {},
   "outputs": [],
   "source": [
    "# Get best parameters (adjusted)\n",
    "best_params = adjust_params_xgb(best_params)\n",
    "# Train the model with the optimal hyperparamters (including number of\n",
    "# trees) on the whole training set\n",
    "xgb_best = xgb.train(best_params,\n",
    "                     num_boost_round=n_trees_optimum,\n",
    "                     dtrain=data_xgb_train)"
   ]
  },
  {
   "cell_type": "code",
   "execution_count": 48,
   "metadata": {},
   "outputs": [
    {
     "name": "stdout",
     "output_type": "stream",
     "text": [
      "R_2 test set: 0.849985438767737\n"
     ]
    }
   ],
   "source": [
    "# Compute predicted values and save\n",
    "y_xgb = xgb_best.predict(data_xgb_test)\n",
    "y_xgb.dump('../saved_models/y_xgb')\n",
    "    \n",
    "# Compute explained variance (test set)\n",
    "r2_xgb = r2_score(y_test, y_xgb)\n",
    "print(f'R_2 test set: {r2_xgb}')"
   ]
  },
  {
   "cell_type": "markdown",
   "metadata": {},
   "source": [
    "We see that our model explains about 85% of the variation of the test set. This seems good, but it's hard to say how good this really is before we have a baseline estimate from the linear model.\n",
    "\n",
    "Let's save this model."
   ]
  },
  {
   "cell_type": "code",
   "execution_count": 86,
   "metadata": {},
   "outputs": [
    {
     "data": {
      "text/plain": [
       "['saved_models/xgb_best_params_.joblib']"
      ]
     },
     "execution_count": 86,
     "metadata": {},
     "output_type": "execute_result"
    }
   ],
   "source": [
    "# Save intermediate model\n",
    "joblib.dump(xgb_best, '../saved_models/xgb_.joblib')\n",
    "# with open('data/xgb_.pickle', 'wb') as pickled_file: \n",
    "#     pickle.dump(xgb_best, pickled_file) \n",
    "# Save  iteration of best parameters\n",
    "best_params_ = best_params\n",
    "# Save best parameters\n",
    "joblib.dump(best_params_, '../saved_models/xgb_best_params_.joblib')"
   ]
  },
  {
   "cell_type": "markdown",
   "metadata": {},
   "source": [
    "Now that we have identified the best parameters, let's re-estimate the model with a lower learning rate to get a final boost in accuracy."
   ]
  },
  {
   "cell_type": "code",
   "execution_count": 9,
   "metadata": {},
   "outputs": [],
   "source": [
    "# Set other constants again, if necessary\n",
    "small_number = 0.01\n",
    "# Load and adjust best parameters from disk, if necessary\n",
    "best_params = joblib.load('../saved_models/xgb_best_params.joblib')\n",
    "best_params = adjust_params_xgb(best_params)\n",
    "# Load model, if necessary\n",
    "xgb_best = joblib.load('../saved_models/xgb_.joblib')"
   ]
  },
  {
   "cell_type": "code",
   "execution_count": null,
   "metadata": {},
   "outputs": [],
   "source": [
    "# Decrease learning rate\n",
    "best_params['eta'] = 0.01\n",
    "# Delete number of iterations from parameters (It has to be\n",
    "# supplied as a direct argument to work properly.)\n",
    "del best_params['num_boost_round'] "
   ]
  },
  {
   "cell_type": "markdown",
   "metadata": {},
   "source": [
    "We start by performing cross-validation again in order to find the right number of trees for the lower learning rate. The other parameters will carry over from the previous model, since tree-specific parameters should not be affected by using a different learning rate."
   ]
  },
  {
   "cell_type": "code",
   "execution_count": null,
   "metadata": {},
   "outputs": [],
   "source": [
    "# Fit the model with the optimal hyperparamters and lower learning rate\n",
    "xgb_final_cv = xgb.cv(best_params,\n",
    "                  dtrain=data_xgb_train, \n",
    "                  num_boost_round=1000000,\n",
    "                  early_stopping_rounds=10000,\n",
    "                  nfold=10)"
   ]
  },
  {
   "cell_type": "code",
   "execution_count": 38,
   "metadata": {},
   "outputs": [
    {
     "data": {
      "text/plain": [
       "['../saved_models/n_trees_optimum_final']"
      ]
     },
     "execution_count": 38,
     "metadata": {},
     "output_type": "execute_result"
    }
   ],
   "source": [
    "# Get optimal number of trees, save and add to parameters\n",
    "n_trees_optimum_final = xgb_final_cv.loc[:, 'test-rmse-mean'] \\\n",
    "                            .idxmin()\n",
    "joblib.dump(n_trees_optimum_final, '../saved_models/n_trees_optimum_final')"
   ]
  },
  {
   "cell_type": "markdown",
   "metadata": {},
   "source": [
    "Now we are ready to estimate the model on the whole training set, using the number of trees identified above."
   ]
  },
  {
   "cell_type": "code",
   "execution_count": null,
   "metadata": {},
   "outputs": [],
   "source": [
    "# Re-estimate model on complete training set with \n",
    "# optimum number of parameters\n",
    "xgb_final = xgb.train(best_params,\n",
    "                     num_boost_round=n_trees_optimum_final,\n",
    "                     dtrain=data_xgb_train)\n",
    "\n",
    "# Save model\n",
    "joblib.dump(xgb_final, '../saved_models/xgb_final.joblib')\n",
    "# Save predictions\n",
    "joblib.dump(y_xgb_final, \n",
    "            '../saved_models/y_xgb_final.joblib')    \n",
    "# Save final iteration of best parameters\n",
    "best_params_final = best_params\n",
    "joblib.dump(best_params_final, \n",
    "            '../saved_models/xgb_best_params_final.joblib')"
   ]
  },
  {
   "cell_type": "code",
   "execution_count": 9,
   "metadata": {},
   "outputs": [],
   "source": [
    "# Load, if necessary\n",
    "xgb_final = joblib.load('../saved_models/xgb_final.joblib')    "
   ]
  },
  {
   "cell_type": "markdown",
   "metadata": {},
   "source": [
    "Let's compute predictions on the test set and calculate the R_2."
   ]
  },
  {
   "cell_type": "code",
   "execution_count": 14,
   "metadata": {},
   "outputs": [],
   "source": [
    "# Computer predicted values\n",
    "y_xgb_final = xgb_final.predict(data_xgb_test)"
   ]
  },
  {
   "cell_type": "code",
   "execution_count": 17,
   "metadata": {},
   "outputs": [
    {
     "name": "stdout",
     "output_type": "stream",
     "text": [
      "R_2 test set: 0.8517936519666849\n"
     ]
    }
   ],
   "source": [
    "# Compute explained variance (test set)\n",
    "r2_xgb_final = r2_score(y_test, y_xgb_final)\n",
    "r2_xgb_final.dump('../saved_models/r2_xgb.joblib')\n",
    "print(f'R_2 test set: {r2_xgb_final}')"
   ]
  },
  {
   "cell_type": "markdown",
   "metadata": {},
   "source": [
    "This gave us only a small boost in performance. This may be due to the fact that we only have a small dataset, so probably the learning algorithm already came close to its capacity despite the large learning rate. Again, it was still worth trying, because it is risky to trust intuition we may have about this beforehand."
   ]
  },
  {
   "cell_type": "markdown",
   "metadata": {},
   "source": [
    "### Feature Importance\n",
    "Let's now plot the most important features."
   ]
  },
  {
   "cell_type": "code",
   "execution_count": 49,
   "metadata": {},
   "outputs": [
    {
     "data": {
      "image/png": "[encoded data removed]",
      "text/plain": [
       "<Figure size 720x720 with 1 Axes>"
      ]
     },
     "metadata": {
      "needs_background": "light"
     },
     "output_type": "display_data"
    }
   ],
   "source": [
    "# Save feature importances\n",
    "fi_xgb = pd.Series(\n",
    "    xgb_best.get_fscore()) \\\n",
    "            .sort_values(ascending=False) \\\n",
    "            .head(15)\n",
    "joblib.dump(fi_xgb, 'saved_models/fi_xgb.joblib')\n",
    "\n",
    "# Plot\n",
    "plt.figure(figsize=(10,10))\n",
    "sns.barplot(x=fi_xgb, y=fi_xgb.index, \n",
    "            color='blue')\n",
    "plt.title('Most important features')\n",
    "plt.show();"
   ]
  },
  {
   "cell_type": "markdown",
   "metadata": {},
   "source": [
    "Not surprisingly, variables affecting the size of the hotel are most predict if of price. Note that the location variables (e.g., MSA) are likely to be even more important, but these are treated as a separate variable for each category due to one-hot encoding.\n",
    "\n",
    "Note that this plot does not tell us anything about what exactly the effect of a particular feature is, only how often it was used in splitting.  Let's thus think about how we could get more interpretable results about a particular feature of interest."
   ]
  },
  {
   "cell_type": "markdown",
   "metadata": {},
   "source": [
    "### Interpreting the effect of age\n",
    "As mentioned above, I argue that it is not the \"fault\" of more complex machine learning models that they lack easy interpretability; rather, reality is too complex to fit well into simple linear models.  Thus, better fitting models inevitably tend to be less interpretable, but this is simply due to the limitations of the human mind.  While interpretability is good to have, it is not worth sacrificing accuracy and fit.\n",
    "\n",
    "I illustrate this problem by looking at the effect of age. This variable is of particular interest, because it is likely to have a more non-linear effect than other important variables, such as those related to size. Gradient boosting is able to model both the nonlinear impact of a feature, as well as the interaction between different features.  In order to make the effect of age more interpretable, I abstract from the interaction, and simply calculate the effect of age, averaged over all situations.  To do so, I use a resampling technique: I draw a large number of samples, but randomly assign age values to them.  Then, I generate predictions, and plot how the average prediction varies by age.\n",
    "\n",
    "Let's start by creating the resampled test set:"
   ]
  },
  {
   "cell_type": "code",
   "execution_count": null,
   "metadata": {},
   "outputs": [],
   "source": [
    "# Create resampled test set \n",
    "X_test_r, y_test_r = resample(\n",
    "    X_test, y_test,\n",
    "    replace=True, n_samples=1000000, random_state=1)\n",
    "\n",
    "# Convert X_test to DataFrame for easier manipulation\n",
    "X_test_r = pd.DataFrame(X_test_r, columns = feature_names)\n",
    "# Draw uniformly distributed age values\n",
    "# X_test[:, feature_names=='age']\n",
    "age_r = resample(\n",
    "    np.arange(X_test_r.age.min(),\n",
    "              X_test_r.age.max(),\n",
    "              1),\n",
    "    replace=True, n_samples = 1000000, random_state=2)             "
   ]
  },
  {
   "cell_type": "markdown",
   "metadata": {},
   "source": [
    "We can now set these values as the age of our resampled data frame and compute the predictions. Finally, we will group these predictions by age, and subtract the mean price."
   ]
  },
  {
   "cell_type": "code",
   "execution_count": null,
   "metadata": {},
   "outputs": [],
   "source": [
    "# Replace age with randomized values\n",
    "X_test_r.loc[:,'age'] = age_r\n",
    "\n",
    "# Convert X_test_r back to NumPy array\n",
    "X_test_r = X_test_r.values\n",
    "\n",
    "# Convert data to DMatrix \n",
    "data_xgb_test_r = xgb.DMatrix(data=X_test_r, label=y_test_r,\n",
    "                            feature_names=feature_names)\n",
    "\n",
    "# Make predictions\n",
    "y_xgb_r = xgb_best.predict(data_xgb_test_r)\n",
    "# Group predictions by age \n",
    "y_by_age = pd.Series(y_xgb_r) \\\n",
    "    .groupby(age_r).mean()\n",
    "# Center predictions\n",
    "y_by_age_centered = y_by_age - y_test.mean()"
   ]
  },
  {
   "cell_type": "code",
   "execution_count": 94,
   "metadata": {},
   "outputs": [
    {
     "data": {
      "image/png": "[encoded data removed]",
      "text/plain": [
       "<Figure size 432x288 with 1 Axes>"
      ]
     },
     "metadata": {
      "needs_background": "light"
     },
     "output_type": "display_data"
    }
   ],
   "source": [
    "plt.title('Average effect of building age')\n",
    "plt.xlabel('Age')\n",
    "plt.ylabel('Deviation from average log(saleprice)')\n",
    "plt.plot(np.arange(165), np.zeros(165),\n",
    "         'black', label='Average price')\n",
    "plt.plot(y_by_age_centered, \n",
    "         'blue', label='Effect of age')\n",
    "plt.legend()\n",
    "plt.show()"
   ]
  },
  {
   "cell_type": "code",
   "execution_count": 1,
   "metadata": {},
   "outputs": [
    {
     "data": {
      "text/plain": [
       "0"
      ]
     },
     "execution_count": 1,
     "metadata": {},
     "output_type": "execute_result"
    }
   ],
   "source": [
    "import os\n",
    "os.system('jupyter nbconvert --to html 1_modeling_xgb.ipynb')"
   ]
  },
  {
   "cell_type": "code",
   "execution_count": null,
   "metadata": {},
   "outputs": [],
   "source": []
  }
 ],
 "metadata": {
  "kernelspec": {
   "display_name": "Python [conda env:hotels2] *",
   "language": "python",
   "name": "conda-env-hotels2-py"
  },
  "language_info": {
   "codemirror_mode": {
    "name": "ipython",
    "version": 3
   },
   "file_extension": ".py",
   "mimetype": "text/x-python",
   "name": "python",
   "nbconvert_exporter": "python",
   "pygments_lexer": "ipython3",
   "version": "3.6.7"
  },
  "toc": {
   "base_numbering": 1,
   "nav_menu": {},
   "number_sections": true,
   "sideBar": true,
   "skip_h1_title": true,
   "title_cell": "Table of Contents",
   "title_sidebar": "Contents",
   "toc_cell": true,
   "toc_position": {},
   "toc_section_display": true,
   "toc_window_display": true
  }
 },
 "nbformat": 4,
 "nbformat_minor": 2
}
